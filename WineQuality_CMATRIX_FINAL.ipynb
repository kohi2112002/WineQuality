{
  "nbformat": 4,
  "nbformat_minor": 0,
  "metadata": {
    "colab": {
      "name": "WineQuality.ipynb",
      "provenance": [],
      "collapsed_sections": [
        "dRS5SXQ8Bo1W",
        "sc170tATlTYP",
        "_rj18Hs0lZ56",
        "8qzvAhYJ1AJ8"
      ],
      "toc_visible": true,
      "include_colab_link": true
    },
    "kernelspec": {
      "display_name": "Python 3",
      "name": "python3"
    },
    "language_info": {
      "name": "python"
    }
  },
  "cells": [
    {
      "cell_type": "markdown",
      "metadata": {
        "id": "view-in-github",
        "colab_type": "text"
      },
      "source": [
        "<a href=\"https://colab.research.google.com/github/kohi2112002/WineQuality/blob/cMatrix/WineQuality_CMATRIX_FINAL.ipynb\" target=\"_parent\"><img src=\"https://colab.research.google.com/assets/colab-badge.svg\" alt=\"Open In Colab\"/></a>"
      ]
    },
    {
      "cell_type": "markdown",
      "metadata": {
        "id": "gdUNhC8wsnu_"
      },
      "source": [
        "# Clone **DATA**\n"
      ]
    },
    {
      "cell_type": "code",
      "metadata": {
        "id": "VYUQJIhUtduk"
      },
      "source": [
        "import pandas as pd\n",
        "import numpy as np\n",
        "import pymongo\n",
        "import matplotlib.pyplot as plt\n",
        "import seaborn as sns\n",
        "from sklearn.model_selection import train_test_split\n",
        "from sklearn.preprocessing import MinMaxScaler\n",
        "from sklearn.cluster import KMeans\n",
        "from sklearn.metrics import silhouette_score\n",
        "from sklearn.metrics import confusion_matrix"
      ],
      "execution_count": 1,
      "outputs": []
    },
    {
      "cell_type": "code",
      "metadata": {
        "colab": {
          "base_uri": "https://localhost:8080/"
        },
        "id": "AvslA3Vr7z9H",
        "outputId": "6a652238-d7c8-4839-a09b-f1dd2bf6779d"
      },
      "source": [
        "!git clone https://github.com/kohi2112002/WineQuality.git"
      ],
      "execution_count": 2,
      "outputs": [
        {
          "output_type": "stream",
          "text": [
            "Cloning into 'WineQuality'...\n",
            "remote: Enumerating objects: 18, done.\u001b[K\n",
            "remote: Counting objects: 100% (18/18), done.\u001b[K\n",
            "remote: Compressing objects: 100% (17/17), done.\u001b[K\n",
            "remote: Total 18 (delta 7), reused 6 (delta 0), pack-reused 0\u001b[K\n",
            "Unpacking objects: 100% (18/18), done.\n"
          ],
          "name": "stdout"
        }
      ]
    },
    {
      "cell_type": "code",
      "metadata": {
        "id": "eX0vjQkktv-C"
      },
      "source": [
        "# upload file to drive\n",
        "red_path = '/content/WineQuality/winequality-red.csv'\n",
        "white_path = '/content/WineQuality/winequality-white.csv'"
      ],
      "execution_count": 3,
      "outputs": []
    },
    {
      "cell_type": "code",
      "metadata": {
        "id": "stsU4BOkygPl"
      },
      "source": [
        "# read file into dataframe\n",
        "red_df = pd.read_csv(red_path)\n",
        "white_df = pd.read_csv(white_path)"
      ],
      "execution_count": 4,
      "outputs": []
    },
    {
      "cell_type": "code",
      "metadata": {
        "colab": {
          "base_uri": "https://localhost:8080/"
        },
        "id": "c3v9r4Ot90YW",
        "outputId": "3d7a028e-c035-4876-991e-624b856409af"
      },
      "source": [
        "# check \n",
        "print(red_df.shape)\n",
        "print(white_df.shape)"
      ],
      "execution_count": 5,
      "outputs": [
        {
          "output_type": "stream",
          "text": [
            "(1599, 12)\n",
            "(4898, 12)\n"
          ],
          "name": "stdout"
        }
      ]
    },
    {
      "cell_type": "code",
      "metadata": {
        "colab": {
          "base_uri": "https://localhost:8080/",
          "height": 191
        },
        "id": "uXW7zzRVoTCz",
        "outputId": "87252c26-a381-48c6-830c-7fd82e7364c1"
      },
      "source": [
        "red_df.head()"
      ],
      "execution_count": 6,
      "outputs": [
        {
          "output_type": "execute_result",
          "data": {
            "text/html": [
              "<div>\n",
              "<style scoped>\n",
              "    .dataframe tbody tr th:only-of-type {\n",
              "        vertical-align: middle;\n",
              "    }\n",
              "\n",
              "    .dataframe tbody tr th {\n",
              "        vertical-align: top;\n",
              "    }\n",
              "\n",
              "    .dataframe thead th {\n",
              "        text-align: right;\n",
              "    }\n",
              "</style>\n",
              "<table border=\"1\" class=\"dataframe\">\n",
              "  <thead>\n",
              "    <tr style=\"text-align: right;\">\n",
              "      <th></th>\n",
              "      <th>fixed acidity</th>\n",
              "      <th>volatile acidity</th>\n",
              "      <th>citric acid</th>\n",
              "      <th>residual sugar</th>\n",
              "      <th>chlorides</th>\n",
              "      <th>free sulfur dioxide</th>\n",
              "      <th>total sulfur dioxide</th>\n",
              "      <th>density</th>\n",
              "      <th>pH</th>\n",
              "      <th>sulphates</th>\n",
              "      <th>alcohol</th>\n",
              "      <th>quality</th>\n",
              "    </tr>\n",
              "  </thead>\n",
              "  <tbody>\n",
              "    <tr>\n",
              "      <th>0</th>\n",
              "      <td>7.4</td>\n",
              "      <td>0.70</td>\n",
              "      <td>0.00</td>\n",
              "      <td>1.9</td>\n",
              "      <td>0.076</td>\n",
              "      <td>11.0</td>\n",
              "      <td>34.0</td>\n",
              "      <td>0.9978</td>\n",
              "      <td>3.51</td>\n",
              "      <td>0.56</td>\n",
              "      <td>9.4</td>\n",
              "      <td>5</td>\n",
              "    </tr>\n",
              "    <tr>\n",
              "      <th>1</th>\n",
              "      <td>7.8</td>\n",
              "      <td>0.88</td>\n",
              "      <td>0.00</td>\n",
              "      <td>2.6</td>\n",
              "      <td>0.098</td>\n",
              "      <td>25.0</td>\n",
              "      <td>67.0</td>\n",
              "      <td>0.9968</td>\n",
              "      <td>3.20</td>\n",
              "      <td>0.68</td>\n",
              "      <td>9.8</td>\n",
              "      <td>5</td>\n",
              "    </tr>\n",
              "    <tr>\n",
              "      <th>2</th>\n",
              "      <td>7.8</td>\n",
              "      <td>0.76</td>\n",
              "      <td>0.04</td>\n",
              "      <td>2.3</td>\n",
              "      <td>0.092</td>\n",
              "      <td>15.0</td>\n",
              "      <td>54.0</td>\n",
              "      <td>0.9970</td>\n",
              "      <td>3.26</td>\n",
              "      <td>0.65</td>\n",
              "      <td>9.8</td>\n",
              "      <td>5</td>\n",
              "    </tr>\n",
              "    <tr>\n",
              "      <th>3</th>\n",
              "      <td>11.2</td>\n",
              "      <td>0.28</td>\n",
              "      <td>0.56</td>\n",
              "      <td>1.9</td>\n",
              "      <td>0.075</td>\n",
              "      <td>17.0</td>\n",
              "      <td>60.0</td>\n",
              "      <td>0.9980</td>\n",
              "      <td>3.16</td>\n",
              "      <td>0.58</td>\n",
              "      <td>9.8</td>\n",
              "      <td>6</td>\n",
              "    </tr>\n",
              "    <tr>\n",
              "      <th>4</th>\n",
              "      <td>7.4</td>\n",
              "      <td>0.70</td>\n",
              "      <td>0.00</td>\n",
              "      <td>1.9</td>\n",
              "      <td>0.076</td>\n",
              "      <td>11.0</td>\n",
              "      <td>34.0</td>\n",
              "      <td>0.9978</td>\n",
              "      <td>3.51</td>\n",
              "      <td>0.56</td>\n",
              "      <td>9.4</td>\n",
              "      <td>5</td>\n",
              "    </tr>\n",
              "  </tbody>\n",
              "</table>\n",
              "</div>"
            ],
            "text/plain": [
              "   fixed acidity  volatile acidity  citric acid  ...  sulphates  alcohol  quality\n",
              "0            7.4              0.70         0.00  ...       0.56      9.4        5\n",
              "1            7.8              0.88         0.00  ...       0.68      9.8        5\n",
              "2            7.8              0.76         0.04  ...       0.65      9.8        5\n",
              "3           11.2              0.28         0.56  ...       0.58      9.8        6\n",
              "4            7.4              0.70         0.00  ...       0.56      9.4        5\n",
              "\n",
              "[5 rows x 12 columns]"
            ]
          },
          "metadata": {
            "tags": []
          },
          "execution_count": 6
        }
      ]
    },
    {
      "cell_type": "code",
      "metadata": {
        "id": "eFy3bHiZ2Z2N"
      },
      "source": [
        "# spilt data (red and white wine datasets) into training and test sets. \n",
        "# Repeat the process 3 times, ensuring each repeat is different \n",
        "\n",
        "r_train_1, r_test_1 = train_test_split(red_df, test_size = 0.1, random_state = 42)\n",
        "r_train_2, r_test_2 = train_test_split(red_df, test_size = 0.1, random_state = 41)\n",
        "r_train_3, r_test_3 = train_test_split(red_df, test_size = 0.1, random_state = 40)\n",
        "w_train_1, w_test_1 = train_test_split(white_df, test_size = 0.1, random_state = 42)\n",
        "w_train_2, w_test_2 = train_test_split(white_df, test_size = 0.1, random_state = 41)\n",
        "w_train_3, w_test_3 = train_test_split(white_df, test_size = 0.1, random_state = 40)\n",
        "\n",
        "y_train_1,y_test_1 =  train_test_split(red_df['quality'], test_size = 0.1, random_state = 42)\n",
        "y_train_1,y_test_2 =  train_test_split(red_df['quality'], test_size = 0.1, random_state = 41)\n",
        "y_train_1,y_test_3 =  train_test_split(red_df['quality'], test_size = 0.1, random_state = 40)\n",
        "y_train_1,y_test_4 =  train_test_split(white_df['quality'], test_size = 0.1, random_state = 42)\n",
        "y_train_1,y_test_5 =  train_test_split(white_df['quality'], test_size = 0.1, random_state = 41)\n",
        "y_train_1,y_test_6 =  train_test_split(white_df['quality'], test_size = 0.1, random_state = 40)\n",
        "\n",
        "Y_test = [y_test_1, y_test_2, y_test_3, y_test_4, y_test_5, y_test_6]"
      ],
      "execution_count": 7,
      "outputs": []
    },
    {
      "cell_type": "markdown",
      "metadata": {
        "id": "YAx3Snk2s1qr"
      },
      "source": [
        "# **Second - Task - Khoi**"
      ]
    },
    {
      "cell_type": "code",
      "metadata": {
        "id": "VJJ5MI9o7OIF"
      },
      "source": [
        "# Test 1 # Copy Data\n",
        "k_r_tr_1 = r_train_1.copy()\n",
        "k_r_ts_1 = r_test_1.copy()\n",
        "k_w_tr_1 = w_train_1.copy()\n",
        "k_w_ts_1 = w_test_1.copy()\n",
        "k_r_tr_2 = r_train_2.copy()\n",
        "k_r_ts_2 = r_test_2.copy()\n",
        "k_w_tr_2 = w_train_2.copy()\n",
        "k_w_ts_2 = w_test_2.copy()\n",
        "k_r_tr_3 = r_train_3.copy()\n",
        "k_r_ts_3 = r_test_3.copy()\n",
        "k_w_tr_3 = w_train_3.copy()\n",
        "k_w_ts_3 = w_test_3.copy()\n"
      ],
      "execution_count": 8,
      "outputs": []
    },
    {
      "cell_type": "code",
      "metadata": {
        "id": "O6fik7lTmFkM"
      },
      "source": [
        "# export to csv file\n",
        "k_r_tr_1.to_csv('/content/sample_data/k_r_tr_1.csv')\n",
        "k_r_ts_1.to_csv('/content/sample_data/k_r_ts_1.csv')\n",
        "k_w_tr_1.to_csv('/content/sample_data/k_w_tr_1.csv')\n",
        "k_w_ts_1.to_csv('/content/sample_data/k_w_ts_1.csv')\n",
        "k_r_tr_2.to_csv('/content/sample_data/k_r_tr_2.csv')\n",
        "k_r_ts_2.to_csv('/content/sample_data/k_r_ts_2.csv')\n",
        "k_w_tr_2.to_csv('/content/sample_data/k_w_tr_2.csv')\n",
        "k_w_ts_2.to_csv('/content/sample_data/k_w_ts_2.csv')\n",
        "k_r_tr_3.to_csv('/content/sample_data/k_r_tr_3.csv')\n",
        "k_r_ts_3.to_csv('/content/sample_data/k_r_tr_3.csv')\n",
        "k_w_tr_3.to_csv('/content/sample_data/k_w_tr_3.csv')\n",
        "k_w_ts_3.to_csv('/content/sample_data/k_w_ts_3.csv')"
      ],
      "execution_count": 9,
      "outputs": []
    },
    {
      "cell_type": "code",
      "metadata": {
        "id": "eKhq4VzUSYeu"
      },
      "source": [
        "#Scaling Data\n",
        "scaler = MinMaxScaler()\n",
        "scaler.fit(k_r_tr_1)\n",
        "scaled_r_tr_1 = scaler.transform(k_r_tr_1)\n",
        "scaler.fit(k_r_ts_1)\n",
        "scaled_r_ts_1 = scaler.transform(k_r_ts_1)\n",
        "scaler.fit(k_w_tr_1)\n",
        "scaled_w_tr_1 = scaler.transform(k_w_tr_1)\n",
        "scaler.fit(k_w_ts_1)\n",
        "scaled_w_ts_1 = scaler.transform(k_w_ts_1)\n",
        "\n",
        "scaler.fit(k_r_tr_2)\n",
        "scaled_r_tr_2 = scaler.transform(k_r_tr_2)\n",
        "scaler.fit(k_r_ts_2)\n",
        "scaled_r_ts_2 = scaler.transform(k_r_ts_2)\n",
        "scaler.fit(k_w_tr_2)\n",
        "scaled_w_tr_2 = scaler.transform(k_w_tr_2)\n",
        "scaler.fit(k_w_ts_2)\n",
        "scaled_w_ts_2 = scaler.transform(k_w_ts_2)\n",
        "\n",
        "scaler.fit(k_r_tr_3)\n",
        "scaled_r_tr_3 = scaler.transform(k_r_tr_3)\n",
        "scaler.fit(k_r_ts_3)\n",
        "scaled_r_ts_3 = scaler.transform(k_r_ts_3)\n",
        "scaler.fit(k_w_tr_2)\n",
        "scaled_w_tr_3 = scaler.transform(k_w_tr_3)\n",
        "scaler.fit(k_w_ts_2)\n",
        "scaled_w_ts_3 = scaler.transform(k_w_ts_3)\n",
        "\n",
        "Train_List = [scaled_r_tr_1, scaled_r_tr_2, scaled_r_tr_3, scaled_w_tr_1, scaled_w_tr_2, scaled_w_tr_3]\n",
        "Test_List = [scaled_r_ts_1, scaled_r_ts_2, scaled_r_ts_3, scaled_w_ts_1, scaled_w_ts_2, scaled_w_ts_3]\n",
        "str_tr_lst = ['red_train_1', 'red_train_2', 'red_train_3', 'white_train_1', 'white_train_2', 'white_train_3']\n",
        "str_ts_lst = ['red_test_1', 'red_test_2', 'red_test_3', 'white_test_1', 'white_test_2', 'white_test_3']"
      ],
      "execution_count": 10,
      "outputs": []
    },
    {
      "cell_type": "code",
      "metadata": {
        "colab": {
          "base_uri": "https://localhost:8080/",
          "height": 628
        },
        "id": "_RWT6x0CLqU_",
        "outputId": "6fbdc58e-df9f-4b3f-8c68-dee12ceaa437"
      },
      "source": [
        "#Choosing K value by Elbow Method\n",
        "sse_1 = []\n",
        "sse_2 = []\n",
        "k_rng = range(1,10)\n",
        "for k in k_rng:\n",
        "  km = KMeans(n_clusters = k)\n",
        "  km.fit(scaled_r_tr_1)\n",
        "  sse_1.append(km.inertia_)\n",
        "for k in k_rng:\n",
        "  km = KMeans(n_clusters = k)\n",
        "  km.fit(scaled_w_tr_1)\n",
        "  sse_2.append(km.inertia_)\n",
        "\n",
        "plt.xlabel('K')\n",
        "plt.ylabel('Sum of squared distance')\n",
        "plt.figure(1)\n",
        "sns.lineplot(k_rng, sse_1)\n",
        "plt.figure(2)\n",
        "sns.lineplot(k_rng, sse_2)\n",
        "\n",
        "# K = 2,3 is suitable"
      ],
      "execution_count": 11,
      "outputs": [
        {
          "output_type": "stream",
          "text": [
            "/usr/local/lib/python3.7/dist-packages/seaborn/_decorators.py:43: FutureWarning: Pass the following variables as keyword args: x, y. From version 0.12, the only valid positional argument will be `data`, and passing other arguments without an explicit keyword will result in an error or misinterpretation.\n",
            "  FutureWarning\n",
            "/usr/local/lib/python3.7/dist-packages/seaborn/_decorators.py:43: FutureWarning: Pass the following variables as keyword args: x, y. From version 0.12, the only valid positional argument will be `data`, and passing other arguments without an explicit keyword will result in an error or misinterpretation.\n",
            "  FutureWarning\n"
          ],
          "name": "stderr"
        },
        {
          "output_type": "execute_result",
          "data": {
            "text/plain": [
              "<matplotlib.axes._subplots.AxesSubplot at 0x7f89ed790e90>"
            ]
          },
          "metadata": {
            "tags": []
          },
          "execution_count": 11
        },
        {
          "output_type": "display_data",
          "data": {
            "image/png": "[encoded data removed]",
            "text/plain": [
              "<Figure size 432x288 with 1 Axes>"
            ]
          },
          "metadata": {
            "tags": [],
            "needs_background": "light"
          }
        },
        {
          "output_type": "display_data",
          "data": {
            "image/png": "[encoded data removed]",
            "text/plain": [
              "<Figure size 432x288 with 1 Axes>"
            ]
          },
          "metadata": {
            "tags": [],
            "needs_background": "light"
          }
        }
      ]
    },
    {
      "cell_type": "markdown",
      "metadata": {
        "id": "x99M3dkWt_R5"
      },
      "source": [
        "**How can we pick value of K - the number of clusters**\n",
        "- We create a method contaning a loop througn a set of test value of k and then calculate the inertia value. The inertia value is the sum of squared distances of samples to their closest cluster center.\n",
        "- We visualize all inertia value of each K.\n",
        "- As we can see the higher the value of k is, the smaller the inertia is. That means there exists sum cluster with only some data. That express that the data is poorly divided.\n",
        "- That's the reason why 2 and 3 are the best number of cluster. "
      ]
    },
    {
      "cell_type": "code",
      "metadata": {
        "id": "TQ2H1oUOngb7"
      },
      "source": [
        "# Convert silhouette to percentage\n",
        "def sil2per(sil_score):\n",
        "  if(sil_score == 0):\n",
        "    return 50\n",
        "  elif(sil_score == 1):\n",
        "    return 100\n",
        "  elif(sil_score == -1):\n",
        "    return 0\n",
        "  elif(sil_score > 0):\n",
        "    return int(100 - (1 - sil_score)*50)\n",
        "  elif(sil_score < 0):\n",
        "    return int((sil_score + 1)*50)"
      ],
      "execution_count": 12,
      "outputs": []
    },
    {
      "cell_type": "code",
      "metadata": {
        "id": "0WZktAddYa3h"
      },
      "source": [
        "#This function calculate the \n",
        "def re_cm(cnf_matrix):\n",
        "  FP = cnf_matrix.sum(axis=0) - np.diag(cnf_matrix)  \n",
        "  FN = cnf_matrix.sum(axis=1) - np.diag(cnf_matrix)\n",
        "  TP = np.diag(cnf_matrix)\n",
        "  TN = cnf_matrix.sum() - (FP + FN + TP)\n",
        "\n",
        "  FP = FP.astype(float)\n",
        "  FN = FN.astype(float)\n",
        "  TP = TP.astype(float)\n",
        "  TN = TN.astype(float)\n",
        "\n",
        "  # Sensitivity, hit rate, recall, or true positive rate\n",
        "  TPR = TP/(TP+FN)\n",
        "  # Specificity or true negative rate\n",
        "  TNR = TN/(TN+FP) \n",
        "  # Precision or positive predictive value\n",
        "  PPV = TP/(TP+FP)\n",
        "  # Negative predictive value\n",
        "  NPV = TN/(TN+FN)\n",
        "  # Fall out or false positive rate\n",
        "  FPR = FP/(FP+TN)\n",
        "  # False negative rate\n",
        "  FNR = FN/(TP+FN)\n",
        "  # False discovery rate\n",
        "  FDR = FP/(TP+FP)\n",
        "  # Overall accuracy\n",
        "  ACC = (TP+TN)/(TP+FP+FN+TN)\n",
        "\n",
        "  return [ACC, TPR, FPR, FNR, PPV]"
      ],
      "execution_count": 24,
      "outputs": []
    },
    {
      "cell_type": "code",
      "metadata": {
        "colab": {
          "base_uri": "https://localhost:8080/"
        },
        "id": "YDf_Hu1S9Ch4",
        "outputId": "bfd21cea-21e7-4f21-c6f4-a926613a5967"
      },
      "source": [
        "# Training - Testing - K = 3\n",
        "\n",
        "train_labels_lst_cls3 = []\n",
        "test_labels_lst_cls3 = []\n",
        "train_centroid_lst_cls3 = []\n",
        "sil_score_lst_cls3 = []\n",
        "acc_rate_lst_cls3 = []\n",
        "cm_test_3 = []\n",
        "all_return_cm = []\n",
        "for i in range(6):\n",
        "  #Train\n",
        "  km = KMeans(n_clusters = 3).fit(Train_List[i]) # Kmean\n",
        "  train_labels_lst_cls3.append(km.labels_) #Get labels\n",
        "  train_centroid_lst_cls3.append(km.cluster_centers_) #Get centroids\n",
        "  #Test train\n",
        "  train_test = km.predict(Train_List[i]) #Get predicted labels\n",
        "  test_labels_lst_cls3.append(train_test)\n",
        "  sil_score = silhouette_score(Train_List[i], train_test) #Get silhouette score\n",
        "  acc_rate = sil2per(sil_score) #Get accuracy rate\n",
        "  sil_score_lst_cls3.append(sil_score) #Store sil score\n",
        "  acc_rate_lst_cls3.append(acc_rate) #Store acc rate\n",
        "  #Confusion matrix for test\n",
        "  predicted_label = km.predict(Test_List[i])\n",
        "  np_test = Y_test[i].to_numpy()\n",
        "  cmatrix = confusion_matrix(np_test, predicted_label)\n",
        "  cm_test_3.append(cmatrix)\n",
        "  all_return_cm.append(re_cm(cmatrix))\n",
        "  #Show\n",
        "  # print(\"The silhouette score of {0} test data: {1}\".format(str_ts_lst[i], sil_score))\n",
        "  # print(\"The accuracy rate of {0} test data: {1}%\".format(str_ts_lst[i], acc_rate))\n",
        "  # print(\"The confusion matrix of {0} test data: \\n{1}\".format(str_ts_lst[i], cmatrix))\n",
        "  # print(\"The Accuracy is: {0} \\nThe True positive rate is: {1} \\nThe False Positive Rate is: {2} \\nThe False Negative Rate is:{3} \\nThe Precision is {4}\".format(all_return_cm[i][0], all_return_cm[i][1],all_return_cm[i][2],all_return_cm[i][3],all_return_cm[i][4]))\n",
        "  print(predicted_label)"
      ],
      "execution_count": 39,
      "outputs": [
        {
          "output_type": "stream",
          "text": [
            "/usr/local/lib/python3.7/dist-packages/ipykernel_launcher.py:14: RuntimeWarning: invalid value encountered in true_divide\n",
            "  \n",
            "/usr/local/lib/python3.7/dist-packages/ipykernel_launcher.py:18: RuntimeWarning: invalid value encountered in true_divide\n",
            "/usr/local/lib/python3.7/dist-packages/ipykernel_launcher.py:24: RuntimeWarning: invalid value encountered in true_divide\n",
            "/usr/local/lib/python3.7/dist-packages/ipykernel_launcher.py:26: RuntimeWarning: invalid value encountered in true_divide\n",
            "/usr/local/lib/python3.7/dist-packages/ipykernel_launcher.py:14: RuntimeWarning: invalid value encountered in true_divide\n",
            "  \n",
            "/usr/local/lib/python3.7/dist-packages/ipykernel_launcher.py:18: RuntimeWarning: invalid value encountered in true_divide\n",
            "/usr/local/lib/python3.7/dist-packages/ipykernel_launcher.py:24: RuntimeWarning: invalid value encountered in true_divide\n",
            "/usr/local/lib/python3.7/dist-packages/ipykernel_launcher.py:26: RuntimeWarning: invalid value encountered in true_divide\n"
          ],
          "name": "stderr"
        },
        {
          "output_type": "stream",
          "text": [
            "[1 1 2 1 0 1 1 1 2 0 2 1 1 1 2 0 1 2 2 1 1 1 0 0 1 1 2 1 1 2 1 1 2 2 1 1 0\n",
            " 1 2 0 2 1 2 1 2 1 2 2 1 1 1 2 1 0 1 1 0 1 1 1 1 2 1 1 2 2 2 1 0 2 0 1 2 0\n",
            " 0 2 0 2 0 0 1 2 1 2 1 2 2 0 2 1 2 0 0 2 1 2 1 1 1 1 1 1 2 0 1 0 2 1 0 2 0\n",
            " 1 2 2 2 2 0 2 1 1 0 1 2 1 1 1 2 2 2 1 2 1 1 2 1 1 1 1 1 1 2 2 0 1 2 1 0 1\n",
            " 2 1 1 0 1 1 2 1 1 2 1 2]\n",
            "[0 1 1 1 0 0 0 1 1 0 0 0 0 1 0 0 0 1 1 1 1 1 0 2 1 2 1 2 1 1 1 2 1 1 0 0 1\n",
            " 0 2 0 0 0 0 0 0 2 1 2 1 0 0 0 0 2 0 0 2 0 0 2 0 1 0 0 0 1 0 0 0 1 0 0 1 2\n",
            " 1 0 0 0 0 2 0 0 0 0 0 0 0 0 0 0 2 2 0 1 2 1 1 0 1 1 0 0 2 0 0 0 0 2 1 2 0\n",
            " 1 0 1 1 2 0 1 2 1 0 1 0 0 0 1 0 0 1 0 0 0 1 0 0 1 0 0 0 0 0 2 0 0 0 0 1 0\n",
            " 0 0 0 1 1 0 1 1 2 0 0 0]\n"
          ],
          "name": "stdout"
        },
        {
          "output_type": "stream",
          "text": [
            "/usr/local/lib/python3.7/dist-packages/ipykernel_launcher.py:14: RuntimeWarning: invalid value encountered in true_divide\n",
            "  \n",
            "/usr/local/lib/python3.7/dist-packages/ipykernel_launcher.py:18: RuntimeWarning: invalid value encountered in true_divide\n",
            "/usr/local/lib/python3.7/dist-packages/ipykernel_launcher.py:24: RuntimeWarning: invalid value encountered in true_divide\n",
            "/usr/local/lib/python3.7/dist-packages/ipykernel_launcher.py:26: RuntimeWarning: invalid value encountered in true_divide\n"
          ],
          "name": "stderr"
        },
        {
          "output_type": "stream",
          "text": [
            "[0 1 0 0 1 1 0 0 1 0 2 2 2 2 1 2 2 0 1 1 1 1 1 0 0 1 2 1 2 1 1 2 1 1 1 1 2\n",
            " 1 1 0 0 2 0 2 0 1 1 0 2 1 0 1 1 0 2 1 0 1 2 1 2 1 1 0 2 0 1 0 2 2 0 0 1 2\n",
            " 0 1 1 1 0 0 2 2 0 0 2 0 0 1 2 1 1 2 1 1 2 0 0 2 2 1 1 2 1 0 0 0 0 0 1 2 2\n",
            " 1 2 0 1 1 0 2 0 0 1 1 1 1 1 0 0 1 0 1 1 1 0 1 1 1 1 1 1 0 1 1 2 1 2 2 0 2\n",
            " 0 0 2 2 1 1 0 1 1 2 2 1]\n"
          ],
          "name": "stdout"
        },
        {
          "output_type": "stream",
          "text": [
            "/usr/local/lib/python3.7/dist-packages/ipykernel_launcher.py:14: RuntimeWarning: invalid value encountered in true_divide\n",
            "  \n",
            "/usr/local/lib/python3.7/dist-packages/ipykernel_launcher.py:18: RuntimeWarning: invalid value encountered in true_divide\n",
            "/usr/local/lib/python3.7/dist-packages/ipykernel_launcher.py:24: RuntimeWarning: invalid value encountered in true_divide\n",
            "/usr/local/lib/python3.7/dist-packages/ipykernel_launcher.py:26: RuntimeWarning: invalid value encountered in true_divide\n"
          ],
          "name": "stderr"
        },
        {
          "output_type": "stream",
          "text": [
            "[2 0 0 2 0 1 2 2 0 2 0 2 1 1 2 2 0 1 0 2 2 1 2 2 1 2 2 1 2 2 2 2 2 2 2 0 0\n",
            " 2 2 1 2 2 0 1 2 1 2 2 2 2 2 2 2 1 1 0 1 1 1 2 2 1 1 1 1 1 1 2 2 2 2 2 2 2\n",
            " 2 2 1 1 0 0 2 2 1 1 0 0 2 1 2 2 1 2 2 0 0 0 0 2 2 1 2 1 0 2 1 2 2 1 1 1 0\n",
            " 0 0 2 2 0 0 0 2 2 2 0 1 2 1 2 0 1 1 2 1 2 1 0 2 2 2 2 0 2 0 2 0 2 1 2 2 2\n",
            " 2 2 1 2 1 1 1 2 0 0 0 2 2 2 2 2 2 0 2 1 2 0 2 0 1 2 0 0 2 0 1 1 0 1 0 1 2\n",
            " 1 0 2 2 2 2 0 0 0 2 2 0 0 2 0 2 2 0 1 2 2 0 1 2 0 2 0 2 0 2 1 2 2 1 0 2 2\n",
            " 2 0 0 2 1 1 0 2 2 2 1 2 2 0 1 2 2 2 1 2 0 0 0 1 0 2 2 2 2 1 2 2 0 2 0 2 0\n",
            " 1 2 2 2 2 1 0 2 2 0 2 2 1 1 0 2 1 1 1 1 2 0 2 0 2 2 0 1 2 2 1 1 1 0 2 0 1\n",
            " 2 0 2 2 2 2 0 1 0 2 2 2 0 1 1 2 1 2 0 0 2 0 2 0 0 1 0 0 1 2 0 2 0 2 1 0 2\n",
            " 2 2 1 0 1 0 2 2 2 2 2 2 1 0 1 2 2 0 0 1 2 0 2 1 0 0 1 2 2 1 2 2 2 2 2 0 1\n",
            " 2 2 1 2 0 2 0 2 2 2 0 0 2 0 2 1 0 2 2 2 2 0 2 2 2 2 2 1 0 2 2 1 2 1 2 0 0\n",
            " 2 0 0 2 0 0 2 2 0 0 2 2 1 0 2 2 0 0 1 2 1 2 1 0 0 0 0 0 2 2 1 2 0 2 1 2 2\n",
            " 2 0 0 1 2 2 2 2 0 0 0 2 2 1 2 2 2 0 2 0 1 0 2 0 0 2 2 0 0 2 2 2 2 2 1 2 0\n",
            " 1 2 2 2 0 2 2 2 2]\n"
          ],
          "name": "stdout"
        },
        {
          "output_type": "stream",
          "text": [
            "/usr/local/lib/python3.7/dist-packages/ipykernel_launcher.py:14: RuntimeWarning: invalid value encountered in true_divide\n",
            "  \n",
            "/usr/local/lib/python3.7/dist-packages/ipykernel_launcher.py:18: RuntimeWarning: invalid value encountered in true_divide\n",
            "/usr/local/lib/python3.7/dist-packages/ipykernel_launcher.py:24: RuntimeWarning: invalid value encountered in true_divide\n",
            "/usr/local/lib/python3.7/dist-packages/ipykernel_launcher.py:26: RuntimeWarning: invalid value encountered in true_divide\n"
          ],
          "name": "stderr"
        },
        {
          "output_type": "stream",
          "text": [
            "[1 2 0 2 2 2 1 1 2 2 2 2 0 1 0 2 0 1 1 2 2 2 0 0 0 2 0 1 0 1 2 1 2 2 2 0 2\n",
            " 2 1 2 2 0 1 2 2 2 2 1 2 0 1 0 0 0 0 2 2 0 2 2 1 2 2 0 0 0 2 0 2 0 0 2 2 0\n",
            " 2 1 2 2 2 1 1 2 1 2 2 0 1 1 1 1 2 0 2 0 2 2 1 2 2 2 1 2 0 0 2 0 2 2 2 0 2\n",
            " 1 2 2 2 0 1 0 2 1 2 0 2 0 2 1 1 2 2 2 2 1 1 2 1 2 2 2 2 2 0 2 2 2 2 1 2 0\n",
            " 0 2 1 2 0 2 2 2 2 2 2 0 1 2 2 2 2 2 0 0 2 2 2 2 1 1 2 2 2 2 1 0 2 2 2 1 2\n",
            " 2 1 0 2 1 2 1 0 1 2 1 2 0 0 1 0 1 1 2 2 0 2 2 2 1 1 0 0 2 2 0 0 2 1 1 2 2\n",
            " 1 2 2 2 2 2 2 0 2 2 2 2 2 2 0 2 1 0 2 2 1 1 2 1 2 2 2 0 2 1 2 2 2 2 1 2 0\n",
            " 0 0 2 0 2 2 0 2 0 2 0 2 2 0 0 2 0 2 2 2 2 1 2 0 2 0 0 2 2 0 2 2 2 0 2 2 2\n",
            " 2 2 1 2 1 2 2 2 2 1 2 2 0 2 0 2 2 2 0 2 2 2 0 0 2 2 2 2 2 0 2 1 2 2 2 2 2\n",
            " 2 2 0 1 0 2 2 2 2 2 2 1 0 2 0 2 0 1 2 2 0 2 0 0 2 2 0 2 0 2 2 2 0 2 2 1 1\n",
            " 2 0 0 1 1 2 1 0 2 0 0 2 2 0 2 2 2 2 0 0 2 2 2 0 2 2 1 2 2 1 0 2 2 0 2 2 2\n",
            " 2 2 2 2 0 2 2 2 2 0 2 2 0 2 1 2 2 0 2 2 0 1 1 2 2 2 2 2 2 2 0 2 1 2 2 2 1\n",
            " 2 1 2 2 1 0 0 2 2 1 2 2 1 2 1 2 2 2 2 2 1 2 2 2 2 2 2 0 1 2 2 2 2 2 2 2 0\n",
            " 2 2 2 0 2 0 2 1 2]\n",
            "[1 1 1 1 2 1 0 2 1 1 1 2 1 0 1 1 1 1 0 0 1 0 1 0 1 1 1 1 2 2 0 1 1 1 0 1 1\n",
            " 0 1 1 1 0 1 1 0 0 1 0 1 1 1 1 1 1 1 0 1 1 0 2 0 1 1 1 1 1 2 1 2 0 1 0 0 1\n",
            " 0 1 0 1 1 1 1 0 1 2 0 1 0 1 1 1 1 1 2 2 1 2 0 1 1 1 2 1 1 1 1 0 1 0 0 1 0\n",
            " 2 1 1 0 2 1 1 0 0 1 1 0 1 1 1 1 1 1 0 1 1 1 1 1 1 1 0 1 1 2 0 1 0 0 1 1 2\n",
            " 1 1 1 0 0 2 1 1 1 1 0 1 1 1 0 1 1 1 1 0 1 1 2 1 1 1 1 2 1 2 1 1 1 1 2 0 1\n",
            " 1 1 0 2 1 0 1 0 1 0 1 1 0 1 1 1 0 1 1 1 0 1 0 1 0 1 1 1 2 0 1 0 1 1 0 1 2\n",
            " 0 2 1 2 1 0 0 1 1 2 1 2 1 1 2 1 0 2 0 1 0 2 1 0 0 1 1 1 1 1 2 1 0 1 1 1 1\n",
            " 0 0 0 0 2 1 2 1 1 2 0 1 0 2 2 2 0 2 0 1 0 0 1 1 0 0 1 0 0 0 0 0 2 1 2 0 1\n",
            " 1 1 1 2 1 1 0 2 1 0 0 0 2 1 2 2 1 1 0 1 2 1 1 1 0 0 0 1 1 1 2 0 1 0 1 0 0\n",
            " 2 0 1 1 1 1 1 1 2 1 0 1 2 1 1 1 1 2 2 0 0 1 1 1 0 0 0 0 1 2 1 2 1 2 0 0 1\n",
            " 1 0 1 1 0 1 1 1 1 0 0 1 0 1 2 1 0 2 1 2 1 1 0 1 2 1 1 1 1 1 1 1 1 1 0 0 0\n",
            " 1 2 1 1 0 1 1 1 1 1 0 1 1 2 0 1 1 1 0 1 1 0 1 1 1 1 1 1 1 1 0 1 0 1 1 1 1\n",
            " 2 0 1 0 1 1 1 1 2 1 1 1 0 0 2 1 1 1 1 1 2 0 1 0 1 2 1 1 1 2 0 1 0 2 1 1 0\n",
            " 0 1 0 1 0 0 1 0 1]\n"
          ],
          "name": "stdout"
        },
        {
          "output_type": "stream",
          "text": [
            "/usr/local/lib/python3.7/dist-packages/ipykernel_launcher.py:14: RuntimeWarning: invalid value encountered in true_divide\n",
            "  \n",
            "/usr/local/lib/python3.7/dist-packages/ipykernel_launcher.py:18: RuntimeWarning: invalid value encountered in true_divide\n",
            "/usr/local/lib/python3.7/dist-packages/ipykernel_launcher.py:24: RuntimeWarning: invalid value encountered in true_divide\n",
            "/usr/local/lib/python3.7/dist-packages/ipykernel_launcher.py:26: RuntimeWarning: invalid value encountered in true_divide\n"
          ],
          "name": "stderr"
        }
      ]
    },
    {
      "cell_type": "code",
      "metadata": {
        "colab": {
          "base_uri": "https://localhost:8080/"
        },
        "id": "-MLiHi8KyEOm",
        "outputId": "fb32cca7-c78e-46e3-e899-83601704ffdb"
      },
      "source": [
        "print(re_cm(cm_test_3[0]))"
      ],
      "execution_count": 29,
      "outputs": [
        {
          "output_type": "stream",
          "text": [
            "[array([0.5125 , 0.6625 , 0.825  , 0.99375, 0.98125, 0.575  , 0.5875 ,\n",
            "       0.8875 , 0.975  ]), array([nan, nan, nan,  0.,  0.,  0.,  0.,  0.,  0.]), array([0.4875, 0.3375, 0.175 , 0.    , 0.    , 0.    , 0.    , 0.    ,\n",
            "       0.    ]), array([nan, nan, nan,  1.,  1.,  1.,  1.,  1.,  1.]), array([ 0.,  0.,  0., nan, nan, nan, nan, nan, nan])]\n"
          ],
          "name": "stdout"
        },
        {
          "output_type": "stream",
          "text": [
            "/usr/local/lib/python3.7/dist-packages/ipykernel_launcher.py:14: RuntimeWarning: invalid value encountered in true_divide\n",
            "  \n",
            "/usr/local/lib/python3.7/dist-packages/ipykernel_launcher.py:18: RuntimeWarning: invalid value encountered in true_divide\n",
            "/usr/local/lib/python3.7/dist-packages/ipykernel_launcher.py:24: RuntimeWarning: invalid value encountered in true_divide\n",
            "/usr/local/lib/python3.7/dist-packages/ipykernel_launcher.py:26: RuntimeWarning: invalid value encountered in true_divide\n"
          ],
          "name": "stderr"
        }
      ]
    },
    {
      "cell_type": "code",
      "metadata": {
        "id": "VQX75zS057c7"
      },
      "source": [
        "plt.figure(figsize=(40,5))\n",
        "for i in range(3):\n",
        "  plt.subplot(1,6,i+1)\n",
        "  plt.scatter(Train_List[i][:, 0], Train_List[i][:, 1], c=train_labels_lst_cls3[i], s=50, cmap='viridis')\n",
        "  plt.scatter(train_centroid_lst_cls3[i][:, 0], train_centroid_lst_cls3[i][:, 1], c='red', s=200, alpha=0.5);\n",
        "plt.figure(figsize=(50,5))\n",
        "for i in range(3,6):\n",
        "  plt.subplot(1,6,i)\n",
        "  plt.scatter(Train_List[i][:, 0], Train_List[i][:, 1], c=train_labels_lst_cls3[i], s=50, cmap='viridis')\n",
        "  plt.scatter(train_centroid_lst_cls3[i][:, 0], train_centroid_lst_cls3[i][:, 1], c='red', s=200, alpha=0.5);"
      ],
      "execution_count": null,
      "outputs": []
    },
    {
      "cell_type": "code",
      "metadata": {
        "id": "-sDfrQXfTbfx"
      },
      "source": [
        "#Showing Center and Labels of K = 3 Cluster\n",
        "for i in range(6):\n",
        "  print(\"the {0} data has centroids \\n{1} \\n and labels{2}\".format(str_tr_lst[i], train_centroid_lst_cls3[i], train_labels_lst_cls3[i]))\n",
        "  print('\\n')"
      ],
      "execution_count": null,
      "outputs": []
    },
    {
      "cell_type": "code",
      "metadata": {
        "id": "ztIiXINlQ4l1"
      },
      "source": [
        "# Training - Testing - K = 2\n",
        "\n",
        "train_labels_lst_cls2 = []\n",
        "test_labels_lst_cls2 = []\n",
        "train_centroid_lst_cls2 = []\n",
        "sil_score_lst_cls2 = []\n",
        "acc_rate_lst_cls2 = []\n",
        "for i in range(6):\n",
        "  #Train\n",
        "  km = KMeans(n_clusters = 2, algorithm=\"elkan\").fit(Train_List[i]) # Kmean\n",
        "  train_labels_lst_cls2.append(km.labels_) #Get labels\n",
        "  train_centroid_lst_cls2.append(km.cluster_centers_) #Get centroids\n",
        "  #Test\n",
        "  test = km.predict(Train_List[i]) #Get predicted labels\n",
        "  test_labels_lst_cls2.append(test)\n",
        "  sil_score = silhouette_score(Train_List[i], test) #Get silhouette score\n",
        "  acc_rate = sil2per(sil_score) #Get accuracy rate\n",
        "  sil_score_lst_cls2.append(sil_score) #Store sil score\n",
        "  acc_rate_lst_cls2.append(acc_rate) #Store acc rate\n",
        "  #Show\n",
        "  print(\"The silhouette score of {0} test data: {1}\".format(str_ts_lst[i], sil_score))\n",
        "  print(\"The accuracy rate of {0} test data: {1}%\".format(str_ts_lst[i], acc_rate))"
      ],
      "execution_count": null,
      "outputs": []
    },
    {
      "cell_type": "code",
      "metadata": {
        "id": "ieiKPaP-77em"
      },
      "source": [
        "plt.figure(figsize=(40,5))\n",
        "for i in range(3):\n",
        "  plt.subplot(1,6,i+1)\n",
        "  plt.scatter(Train_List[i][:, 0], Train_List[i][:, 1], c=train_labels_lst_cls2[i], s=50, cmap='viridis')\n",
        "  plt.scatter(train_centroid_lst_cls2[i][:, 0], train_centroid_lst_cls2[i][:, 1], c='red', s=200, alpha=0.5);\n",
        "plt.figure(figsize=(50,5))\n",
        "for i in range(3,6):\n",
        "  plt.subplot(1,6,i)\n",
        "  plt.scatter(Train_List[i][:, 0], Train_List[i][:, 1], c=train_labels_lst_cls2[i], s=50, cmap='viridis')\n",
        "  plt.scatter(train_centroid_lst_cls2[i][:, 0], train_centroid_lst_cls2[i][:, 1], c='red', s=200, alpha=0.5);"
      ],
      "execution_count": null,
      "outputs": []
    },
    {
      "cell_type": "code",
      "metadata": {
        "id": "po1OYcZwyZ8R"
      },
      "source": [
        "#Showing Center and Labels of K = 2 Cluster\n",
        "for i in range(6):\n",
        "  print(\"the {0} data has centroids \\n{1} \\n and labels{2}\".format(str_tr_lst[i], train_centroid_lst_cls2[i], train_labels_lst_cls2[i]))\n",
        "  print('\\n')"
      ],
      "execution_count": null,
      "outputs": []
    },
    {
      "cell_type": "markdown",
      "metadata": {
        "id": "dATMuKlts10C"
      },
      "source": [
        "# **Third - `Task` - Ha**\n"
      ]
    },
    {
      "cell_type": "markdown",
      "metadata": {
        "id": "dLufYGUP5cjS"
      },
      "source": [
        "1.   Data Preprocessing \n",
        "- Import Dataset\n",
        "- Check missing data (skip this step because no nan values)\n",
        "- Encoding data\n",
        "- Split data into train set and test set\n",
        "- Scalling\n",
        "2.   Regression\n",
        "- Check assumptions: linearity, homoscedasity, normality, independence, lack of multicollinearity\n",
        "- Simple Regression\n",
        "- Logistic Regression\n",
        "- For every repeat (using different training sets), the regression model should be trained from scratch. \n",
        "- List the obtained regression equations in different repeats.\n",
        "3. Test the Accuracy\n",
        " - 4 confusion matrices: accuracy, true positive, false positive, false negative, precision\n",
        " - Mean values of all indices -> model performance of regression"
      ]
    },
    {
      "cell_type": "code",
      "metadata": {
        "id": "wvSI0ek6ry4C"
      },
      "source": [
        "# data prep, spilt to predictor and response variable\n",
        "X_r = red_df.iloc[:, :-1]\n",
        "Y_r = red_df.iloc[:, -1:]\n",
        "X_w = white_df.iloc[:, :-1]\n",
        "Y_w = white_df.iloc[:, -1:]"
      ],
      "execution_count": null,
      "outputs": []
    },
    {
      "cell_type": "markdown",
      "metadata": {
        "id": "53gKUq1h2VN7"
      },
      "source": [
        "## Variables in the dataset ##\n",
        "\n",
        "\n"
      ]
    },
    {
      "cell_type": "markdown",
      "metadata": {
        "id": "YA0WXqrEGhmR"
      },
      "source": [
        "1. Input variables (based on physicochemical tests):\n",
        " Input variables (based on physicochemical tests):\n",
        "- fixed acidity (tartaric acid - g / dm^3): most acids involved with wine or fixed or nonvolatile (do not evaporate readily)\n",
        "- volatile acidity (acetic acid - g / dm^3): the amount of acetic acid in wine, which at too high of levels can lead to an unpleasant, vinegar taste\n",
        "- citric acid (g / dm^3): found in small quantities, citric acid can add ‘freshness’ and flavor to wines\n",
        "- residual sugar (g / dm^3): the amount of sugar remaining after fermentation stops, it’s rare to find wines with less than 1 gram/liter and wines with greater than 45 grams/liter are considered sweet\n",
        "- chlorides (sodium chloride - g / dm^3): the amount of salt in the wine\n",
        "- free sulfur dioxide (mg / dm^3): the free form of SO2 exists in equilibrium between molecular SO2 (as a dissolved gas) and bisulfite ion; it prevents microbial growth and the oxidation of wine\n",
        "- total sulfur dioxide (mg / dm^3):  amount of free and bound forms of S02; in low concentrations, SO2 is mostly undetectable in wine, but at free SO2 concentrations over 50 ppm, SO2 becomes evident in the nose and taste of wine\n",
        "- density (g / cm^3): the density of water is close to that of water depending on the percent alcohol and sugar content\n",
        "- pH: describes how acidic or basic a wine is on a scale from 0 (very acidic) to 14 (very basic); most wines are between 3-4 on the pH scale\n",
        "- sulphates (potassium sulphate - g / dm3): a wine additive which can contribute to sulfur dioxide gas (S02) levels, wich acts as an antimicrobial and antioxidant\n",
        "- alcohol (% by volume): the percent alcohol content of the wine\n",
        "2. Output variable (based on sensory data): \n",
        "- quality (score between 0 and 10): ordinal categorical data\n",
        "\n",
        "Note: we make do both options - numerical and ordinal dependent variable\n",
        "\n"
      ]
    },
    {
      "cell_type": "code",
      "metadata": {
        "id": "tgEyvez3l7g-"
      },
      "source": [
        "import statsmodels.api as sm\n",
        "from sklearn.model_selection import train_test_split\n",
        "from sklearn.metrics import classification_report, confusion_matrix, accuracy_score, precision_score\n",
        "# pearson's correlation feature selection for numeric input and numeric output\n",
        "from sklearn.feature_selection import SelectKBest\n",
        "from sklearn.feature_selection import f_regression\n",
        "from statsmodels.stats.outliers_influence import variance_inflation_factor\n",
        "from sklearn.linear_model import LinearRegression\n",
        "from sklearn.metrics import r2_score\n",
        "from sklearn.metrics import mean_squared_error, mean_absolute_error\n",
        "import math\n",
        "import statistics as st\n"
      ],
      "execution_count": null,
      "outputs": []
    },
    {
      "cell_type": "code",
      "metadata": {
        "id": "u0mYJDnEDQBo"
      },
      "source": [
        "# RED WINE: check correlation between predictors, predictor vs response, and distribution shape of data\n",
        "p_r = sns.pairplot(red_df)"
      ],
      "execution_count": null,
      "outputs": []
    },
    {
      "cell_type": "code",
      "metadata": {
        "id": "I2R_FMLeIPfW"
      },
      "source": [
        "# WHITE WINE: check correlation between predictors, predictor vs response, and distribution shape of data\n",
        "p_w = sns.pairplot(white_df)"
      ],
      "execution_count": null,
      "outputs": []
    },
    {
      "cell_type": "markdown",
      "metadata": {
        "id": "hkCROlF0GIPp"
      },
      "source": [
        "Comments:\n",
        "\n",
        "In both Red and Wine datasets:\n",
        "\n",
        "High correlation between predictors:\n",
        "\n",
        "\n",
        "*   Fixed Acidity - voltile acidity (-),citric Acidity (+), density (+), pH (-)\n",
        "*   Alcohol - density (-)\n",
        "\n",
        "High correlation between response and predictors\n",
        "*   Response variable: fixed, voltile, citric acidity, alcohol, density\n",
        "\n",
        "Skip encoding data part for response variable: quality is rating so it should be ordinal categorical data. But we can also recognize it a numerical data for ease of using model\n",
        "\n",
        "Skip Scalling because none of the predictors has very skewed distribution. We don't need a general scalling for all the predictors because the betas in the regression equation can do the work\n",
        "\n"
      ]
    },
    {
      "cell_type": "markdown",
      "metadata": {
        "id": "dRS5SXQ8Bo1W"
      },
      "source": [
        "## Repeat 1 ##\n",
        "\n",
        "Regression method: Wrapper method. Based on the R-squared and the p-value for each predictor in the regression, drop insignificant predictors and keep significant ones. The goal is to obtain a regression equation with the minimum number of predictors while still make good estimation.\n",
        "\n",
        "*   Red Wine: backward selection (from a full equation, drop predictors)\n",
        "*   White wine: forward selection (from a 1 predictor function, add one more, etc.)\n",
        "\n"
      ]
    },
    {
      "cell_type": "markdown",
      "metadata": {
        "id": "M4INCT4o9bTd"
      },
      "source": [
        "### Red Wine data ###"
      ]
    },
    {
      "cell_type": "code",
      "metadata": {
        "id": "eIvs2Z9ZBoW3"
      },
      "source": [
        "# spilt red wine data into test and training set\n",
        "X_r_tr1, X_r_t1, Y_r_tr1, Y_r_t1 = train_test_split(X_r, Y_r, test_size = 0.1, random_state = 42)\n",
        "\n",
        "# export to csv\n",
        "X_r_tr1.to_csv('/content/sample_data/X_r_tr1.csv')\n",
        "X_r_t1.to_csv('/content/sample_data/X_r_t1.csv')\n",
        "Y_r_tr1.to_csv('/content/sample_data/Y_r_tr1.csv')\n",
        "Y_r_t1.to_csv('/content/sample_data/Y_r_t1.csv')\n"
      ],
      "execution_count": null,
      "outputs": []
    },
    {
      "cell_type": "code",
      "metadata": {
        "id": "VrlxWsD0uaEb"
      },
      "source": [
        "print(Y_r_tr1) "
      ],
      "execution_count": null,
      "outputs": []
    },
    {
      "cell_type": "markdown",
      "metadata": {
        "id": "WCIvYCcV9lyW"
      },
      "source": [
        "Modeling 'Initial Fit': First, fit a full regression model to both red and wine training datasets"
      ]
    },
    {
      "cell_type": "code",
      "metadata": {
        "id": "VEBjifabiPVb"
      },
      "source": [
        "# using sklearn to fit the model\n",
        "reg_r = LinearRegression().fit(X_r_tr1, Y_r_tr1)\n",
        "reg_r.score(X_r_tr1, Y_r_tr1)\n",
        "reg_r.coef_\n",
        "Y_r_hat1 = reg_r.predict(X_r_tr1)\n",
        "Y_r_hat_t1 = reg_r.predict(X_r_t1)\n",
        "print(\"R squared: {}\".format(r2_score(y_true=Y_r_tr1,y_pred=Y_r_hat1)))\n"
      ],
      "execution_count": null,
      "outputs": []
    },
    {
      "cell_type": "code",
      "metadata": {
        "id": "GEuu0Ln_oa1p"
      },
      "source": [
        "#MSE & RMSE penalize large errors more than MAE \n",
        "mae = mean_absolute_error(Y_r_hat_t1,Y_r_t1)\n",
        "rmse = math.sqrt(mean_squared_error(Y_r_hat_t1,Y_r_t1))\n",
        "print('Root Mean Squared Error = ',rmse)\n",
        "print('Mean Absolute Error = ',mae)\n",
        "# MSE & RMSE are low because the model takes all variables"
      ],
      "execution_count": null,
      "outputs": []
    },
    {
      "cell_type": "code",
      "metadata": {
        "id": "gfeFRw7lpKmO"
      },
      "source": [
        "# using statsmodel package to provide description about predictors\n",
        "X1 = X_r_tr1\n",
        "X1 = sm.add_constant(X1) ## let's add an intercept (beta_0) to our model\n",
        "# Note the difference in argument order, first y than X\n",
        "model1 = sm.OLS(Y_r_tr1, X1).fit()\n",
        "predictions = model1.predict(X1) # make the predictions by the model\n",
        "\n",
        "# Print out the statistics\n",
        "model1.summary()\n"
      ],
      "execution_count": null,
      "outputs": []
    },
    {
      "cell_type": "code",
      "metadata": {
        "id": "WIBkq-iRxgVW"
      },
      "source": [
        "print(X1)"
      ],
      "execution_count": null,
      "outputs": []
    },
    {
      "cell_type": "code",
      "metadata": {
        "id": "vCU0FjJ14NEc"
      },
      "source": [
        "# VIF dataframe \n",
        "vif_data = pd.DataFrame() \n",
        "vif_data[\"feature\"] = X_r_tr1.columns \n",
        "  \n",
        "# calculating VIF for each feature \n",
        "vif_data[\"VIF\"] = [variance_inflation_factor(X_r_tr1.values, i) \n",
        "                          for i in range(len(X_r_tr1.columns))]\n",
        "# print VIF\n",
        "print(vif_data)"
      ],
      "execution_count": null,
      "outputs": []
    },
    {
      "cell_type": "code",
      "metadata": {
        "id": "kYaJFEknxpKq"
      },
      "source": [
        "X1 = X_r_tr1[['volatile acidity', 'citric acid', 'residual sugar', 'free sulfur dioxide', 'chlorides', 'pH', 'sulphates', 'alcohol']]\n",
        "X1 = sm.add_constant(X1) ## let's add an intercept (beta_0) to our model\n",
        "# Note the difference in argument order, first y than X\n",
        "model2 = sm.OLS(Y_r_tr1, X1).fit()\n",
        "predictions = model2.predict(X1) # make the predictions by the model\n",
        "\n",
        "# Print out the statistics\n",
        "model2.summary()"
      ],
      "execution_count": null,
      "outputs": []
    },
    {
      "cell_type": "code",
      "metadata": {
        "id": "vYwknLQRxm90"
      },
      "source": [
        "X1 = X_r_tr1[['volatile acidity', 'free sulfur dioxide', 'chlorides', 'pH', 'sulphates', 'alcohol']]\n",
        "X1 = sm.add_constant(X1) ## let's add an intercept (beta_0) to our model\n",
        "# Note the difference in argument order, first y than X\n",
        "model3 = sm.OLS(Y_r_tr1, X1).fit()\n",
        "predictions = model3.predict(X1) # make the predictions by the model\n",
        "\n",
        "# Print out the statistics\n",
        "model3.summary()"
      ],
      "execution_count": null,
      "outputs": []
    },
    {
      "cell_type": "code",
      "metadata": {
        "id": "x0oJv2KHDPRm"
      },
      "source": [
        "X1 = X_r_tr1[['volatile acidity', 'chlorides', 'pH', 'sulphates', 'alcohol']]\n",
        "X1 = sm.add_constant(X1) ## let's add an intercept (beta_0) to our model\n",
        "# Note the difference in argument order, first y than X\n",
        "model4 = sm.OLS(Y_r_tr1, X1).fit()\n",
        "predictions = model4.predict(X1) # make the predictions by the model\n",
        "\n",
        "# Print out the statistics\n",
        "model4.summary()"
      ],
      "execution_count": null,
      "outputs": []
    },
    {
      "cell_type": "code",
      "metadata": {
        "id": "nz01LHznD3hc"
      },
      "source": [
        "X1 = X_r_tr1[['volatile acidity', 'chlorides', 'sulphates', 'alcohol']]\n",
        "X1 = sm.add_constant(X1) ## let's add an intercept (beta_0) to our model\n",
        "# Note the difference in argument order, first y than X\n",
        "model5 = sm.OLS(Y_r_tr1, X1).fit()\n",
        "predictions = model5.predict(X1) # make the predictions by the model\n",
        "\n",
        "# Print out the statistics\n",
        "model5.summary()"
      ],
      "execution_count": null,
      "outputs": []
    },
    {
      "cell_type": "markdown",
      "metadata": {
        "id": "A4L4p2WFHSZ6"
      },
      "source": [
        "Repeat 1 - Regression Model 5 -> Red Wine\n",
        "\n",
        "1.   const = 2.7994\n",
        "2.   voltile acidity = -1.1481\n",
        "3.  chlorides = -1.5233\n",
        "4. sulphates = 0.8375\n",
        "5. alcohol = 0.2899\n",
        "\n"
      ]
    },
    {
      "cell_type": "code",
      "metadata": {
        "id": "XBQgtOc1Iqjs"
      },
      "source": [
        "# visualize true quality score and predicted quality score\n",
        "X1_t = X_r_t1[['volatile acidity', 'chlorides', 'sulphates', 'alcohol']]\n",
        "X1_t = sm.add_constant(X1_t) ## let's add an intercept (beta_0) to our model\n",
        "Y1_t = model5.predict(X1_t)\n",
        "\n",
        "\n",
        "plt.figure(dpi = 75)\n",
        "\n",
        "plt.scatter(Y_r_t1, Y1_t)\n",
        "\n",
        "plt.plot(Y_r_t1, Y_r_t1, color=\"red\")\n",
        "\n",
        "plt.xlabel(\"Actual Scores\")\n",
        "\n",
        "plt.ylabel(\"Estimated Scores\")\n",
        "\n",
        "plt.title(\"Model: Actual vs Estimated Scores\")\n",
        "\n",
        "plt.show()"
      ],
      "execution_count": null,
      "outputs": []
    },
    {
      "cell_type": "code",
      "metadata": {
        "id": "4CZ0V2Sijxfk"
      },
      "source": [
        "# check RMSE of the model\n",
        "print('rmse', mean_squared_error(Y_r_t1, Y1_t, squared=False))"
      ],
      "execution_count": null,
      "outputs": []
    },
    {
      "cell_type": "code",
      "metadata": {
        "id": "ZffPHJeiXiG7"
      },
      "source": [
        "# conver the quality 1-8 scale to 0 and 1 to make confusion matrix\n",
        "cutoff = 5.5\n",
        "Y1_r_pred = np.zeros_like(Y1_t)    # initialise a matrix full with zeros\n",
        "Y1_r_pred[Y1_t > cutoff] = 1\n",
        "print(Y1_r_pred)  "
      ],
      "execution_count": null,
      "outputs": []
    },
    {
      "cell_type": "code",
      "metadata": {
        "id": "6O-pvgYtZgU6"
      },
      "source": [
        "print(Y_r_t1['quality'].to_numpy)"
      ],
      "execution_count": null,
      "outputs": []
    },
    {
      "cell_type": "code",
      "metadata": {
        "id": "_ZBmtXRUY4IP"
      },
      "source": [
        "Y1_r_test = np.zeros_like(Y1_t)\n",
        "Y1_r_test[Y_r_t1['quality'].to_numpy() > cutoff] = 1\n",
        "print(Y1_r_test)"
      ],
      "execution_count": null,
      "outputs": []
    },
    {
      "cell_type": "code",
      "metadata": {
        "id": "rWwNo8-kcVvn"
      },
      "source": [
        "# confusion_matrix(y_test_classes, y_pred_classes)\n",
        "cm = confusion_matrix(Y1_r_test, Y1_r_pred)\n",
        "r1_cm = pd.DataFrame(cm,index = ['Actual: Positive', 'Actual: Negative'], columns= ['Predicted: Positive', 'Predicted: Negative'])\n",
        "\n",
        "# tp, tn, fp, fn"
      ],
      "execution_count": null,
      "outputs": []
    },
    {
      "cell_type": "code",
      "metadata": {
        "id": "cUOSBIKyKxFx"
      },
      "source": [
        "# true positive rate = Sensitivity/ Recall = (true positive) / all actual positive\n",
        "print('TPR: ',round(r1_cm.iloc[0]['Predicted: Positive']/(r1_cm.iloc[0]['Predicted: Positive']+r1_cm.iloc[0]['Predicted: Negative']), 5))\n",
        "# false positive rate = false positive / all actual negative \n",
        "print('FPR: ', round(r1_cm.iloc[1]['Predicted: Positive']/(r1_cm.iloc[1]['Predicted: Positive']+r1_cm.iloc[1]['Predicted: Negative']), 5))\n",
        "# false negative rate = false negative / all actual positive \n",
        "print('FNR: ', round(r1_cm.iloc[0]['Predicted: Negative']/(r1_cm.iloc[0]['Predicted: Positive']+r1_cm.iloc[0]['Predicted: Negative']), 5))\n",
        "# precision = true positive / all predicted positive\n",
        "p_r1 = precision_score(Y1_r_test, Y1_r_pred)\n",
        "print('precision = ', p_r1)# accuracy = % right estmation/ all estimation\n",
        "a_r1 = accuracy_score(Y1_r_test, Y1_r_pred)\n",
        "print('accuracy = ', a_r1)"
      ],
      "execution_count": null,
      "outputs": []
    },
    {
      "cell_type": "markdown",
      "metadata": {
        "id": "uPs6CP-FJrdj"
      },
      "source": [
        "### White Wine data ###"
      ]
    },
    {
      "cell_type": "code",
      "metadata": {
        "id": "Q4anACTsJ354"
      },
      "source": [
        "X_w_tr1, X_w_t1, Y_w_tr1, Y_w_t1 = train_test_split(X_w, Y_w, test_size = 0.1, random_state = 42)\n",
        "X_w_tr1.to_csv('/content/sample_data/X_w_tr1.csv')\n",
        "X_w_t1.to_csv('/content/sample_data/X_w_t1.csv')\n",
        "Y_w_tr1.to_csv('/content/sample_data/Y_w_tr1.csv')\n",
        "Y_w_t1.to_csv('/content/sample_data/Y_w_t1.csv')"
      ],
      "execution_count": null,
      "outputs": []
    },
    {
      "cell_type": "code",
      "metadata": {
        "id": "G3D5LJPoJ6CZ"
      },
      "source": [
        "print(Y_w_tr1)"
      ],
      "execution_count": null,
      "outputs": []
    },
    {
      "cell_type": "markdown",
      "metadata": {
        "id": "H2-bWJQiPRJz"
      },
      "source": [
        "For wine dataset, use the forward selection method"
      ]
    },
    {
      "cell_type": "code",
      "metadata": {
        "id": "84SZRvDLgW_Z"
      },
      "source": [
        "# VIF dataframe \n",
        "vif_data_w = pd.DataFrame() \n",
        "vif_data_w[\"feature\"] = X_w_tr1.columns \n",
        "  \n",
        "# calculating VIF for each feature \n",
        "vif_data_w[\"VIF\"] = [variance_inflation_factor(X_w_tr1.values, i) \n",
        "                          for i in range(len(X_w_tr1.columns))]\n",
        "# print VIF\n",
        "print(vif_data_w)"
      ],
      "execution_count": null,
      "outputs": []
    },
    {
      "cell_type": "code",
      "metadata": {
        "id": "m0rT2H2uPOu6"
      },
      "source": [
        "X1_w = X_w_tr1[['volatile acidity']]\n",
        "X1_w = sm.add_constant(X1_w) ## let's add an intercept (beta_0) to our model\n",
        "# Note the difference in argument order, first y than X\n",
        "model1_w = sm.OLS(Y_w_tr1, X1_w).fit()\n",
        "predictions = model1_w.predict(X1_w) # make the predictions by the model\n",
        "\n",
        "# Print out the statistics\n",
        "model1_w.summary()"
      ],
      "execution_count": null,
      "outputs": []
    },
    {
      "cell_type": "code",
      "metadata": {
        "id": "NVh2Q_lnWBXr"
      },
      "source": [
        "X1_w = X_w_tr1[['volatile acidity', 'residual sugar']]\n",
        "X1_w = sm.add_constant(X1_w) ## let's add an intercept (beta_0) to our model\n",
        "# Note the difference in argument order, first y than X\n",
        "model2_w = sm.OLS(Y_w_tr1, X1_w).fit()\n",
        "predictions = model2_w.predict(X1_w) # make the predictions by the model\n",
        "\n",
        "# Print out the statistics\n",
        "model2_w.summary()"
      ],
      "execution_count": null,
      "outputs": []
    },
    {
      "cell_type": "code",
      "metadata": {
        "id": "4B_Iur-0Wh9W"
      },
      "source": [
        "X1_w = X_w_tr1[['volatile acidity', 'residual sugar', 'chlorides' ]]\n",
        "X1_w = sm.add_constant(X1_w) ## let's add an intercept (beta_0) to our model\n",
        "# Note the difference in argument order, first y than X\n",
        "model3_w = sm.OLS(Y_w_tr1, X1_w).fit()\n",
        "predictions = model3_w.predict(X1_w) # make the predictions by the model\n",
        "\n",
        "# Print out the statistics\n",
        "model3_w.summary()"
      ],
      "execution_count": null,
      "outputs": []
    },
    {
      "cell_type": "code",
      "metadata": {
        "id": "RGQp8ESZW0bL"
      },
      "source": [
        "X1_w = X_w_tr1[['volatile acidity', 'residual sugar', 'alcohol', 'sulphates']]\n",
        "X1_w = sm.add_constant(X1_w) ## let's add an intercept (beta_0) to our model\n",
        "# Note the difference in argument order, first y than X\n",
        "model4_w = sm.OLS(Y_w_tr1, X1_w).fit()\n",
        "predictions = model4_w.predict(X1_w) # make the predictions by the model\n",
        "\n",
        "# Print out the statistics\n",
        "model4_w.summary()"
      ],
      "execution_count": null,
      "outputs": []
    },
    {
      "cell_type": "code",
      "metadata": {
        "id": "sK66iPPWiw64"
      },
      "source": [
        "X1_w = X_w_tr1[['volatile acidity', 'residual sugar', 'free sulfur dioxide', 'sulphates', 'alcohol']]\n",
        "X1_w = sm.add_constant(X1_w) ## let's add an intercept (beta_0) to our model\n",
        "# Note the difference in argument order, first y than X\n",
        "model5_w = sm.OLS(Y_w_tr1, X1_w).fit()\n",
        "predictions = model5_w.predict(X1_w) # make the predictions by the model\n",
        "\n",
        "# Print out the statistics\n",
        "model5_w.summary()"
      ],
      "execution_count": null,
      "outputs": []
    },
    {
      "cell_type": "code",
      "metadata": {
        "id": "onX1NBM0Q7Ge"
      },
      "source": [
        "X1_w_t = X_w_t1[['volatile acidity', 'residual sugar', 'free sulfur dioxide', 'sulphates', 'alcohol']]\n",
        "X1_w_t = sm.add_constant(X1_w_t) ## let's add an intercept (beta_0) to our model\n",
        "Y1_w_t = model5_w.predict(X1_w_t)\n",
        "\n",
        "\n",
        "plt.figure(dpi = 75)\n",
        "\n",
        "plt.scatter(Y_w_t1, Y1_w_t)\n",
        "\n",
        "plt.plot(Y_w_t1, Y_w_t1, color=\"red\")\n",
        "\n",
        "plt.xlabel(\"Actual Scores\")\n",
        "\n",
        "plt.ylabel(\"Estimated Scores\")\n",
        "\n",
        "plt.title(\"Model: Actual vs Estimated Scores\")\n",
        "\n",
        "plt.show()"
      ],
      "execution_count": null,
      "outputs": []
    },
    {
      "cell_type": "markdown",
      "metadata": {
        "id": "YDWai3uyk8mX"
      },
      "source": [
        "Repeat 1 - Wine dataset -model 5 - forward selection\n",
        "1. const = 1.9085\n",
        "2. residual sugar = 0.0248\n",
        "3. free sulfur dioxide = 0.0039\n",
        "4. sulphates = 0.4209\n",
        "5. alcohol = 0.3835"
      ]
    },
    {
      "cell_type": "code",
      "metadata": {
        "id": "QC0-Ohrqkid6"
      },
      "source": [
        "print('rmse', mean_squared_error(Y_w_t1, Y1_w_t, squared=False))"
      ],
      "execution_count": null,
      "outputs": []
    },
    {
      "cell_type": "code",
      "metadata": {
        "id": "LqPEx523dRfX"
      },
      "source": [
        "cutoff = 5.5\n",
        "Y1_w_pred = np.zeros_like(Y1_w_t)    # initialise a matrix full with zeros\n",
        "Y1_w_pred[Y1_w_t > cutoff] = 1\n",
        "\n",
        "Y1_w_test = np.zeros_like(Y1_w_t)\n",
        "Y1_w_test[Y_w_t1['quality'].to_numpy() > cutoff] = 1\n",
        "\n",
        "cm = confusion_matrix(Y1_w_test, Y1_w_pred)\n",
        "w1_cm = pd.DataFrame(cm,index = ['Actual: Positive', 'Actual: Negative'], columns= ['Predicted: Positive', 'Predicted: Negative'])\n",
        "\n",
        "# tp, tn, fp, fn"
      ],
      "execution_count": null,
      "outputs": []
    },
    {
      "cell_type": "code",
      "metadata": {
        "id": "v1bg9ijHgfGu"
      },
      "source": [
        "# true positive rate = Sensitivity/ Recall = (true positive) / all actual positive\n",
        "print('TPR: ',round(w1_cm.iloc[0]['Predicted: Positive']/(w1_cm.iloc[0]['Predicted: Positive']+w1_cm.iloc[0]['Predicted: Negative']), 5))\n",
        "# false positive rate = false positive / all actual negative \n",
        "print('FPR: ', round(w1_cm.iloc[1]['Predicted: Positive']/(w1_cm.iloc[1]['Predicted: Positive']+w1_cm.iloc[1]['Predicted: Negative']), 5))\n",
        "# false negative rate = false negative / all actual positive \n",
        "print('FNR: ', round(w1_cm.iloc[0]['Predicted: Negative']/(w1_cm.iloc[0]['Predicted: Positive']+w1_cm.iloc[0]['Predicted: Negative']), 5))\n",
        "# precision = true positive / all predicted positive\n",
        "p_w1 = precision_score(Y1_w_test, Y1_w_pred)\n",
        "print('precision = ', p_w1)\n",
        "# accuracy = % right estmation/ all estimation\n",
        "a_w1 = accuracy_score(Y1_w_test, Y1_w_pred)\n",
        "print('accuracy = ', a_w1)"
      ],
      "execution_count": null,
      "outputs": []
    },
    {
      "cell_type": "markdown",
      "metadata": {
        "id": "PfPIOB8MlGWu"
      },
      "source": [
        "## Repeat 2 ##\n",
        "\n",
        "\n",
        "\n",
        "*   Regression Selection Method: Filter method\n",
        "*   Based on Pearson correlation statistics, choose the best k variables for the model. In this model, we want to get around 4 or 5 predictors because the first repeat is reduced to around this number\n",
        "\n"
      ]
    },
    {
      "cell_type": "markdown",
      "metadata": {
        "id": "oedZCWCKlOiV"
      },
      "source": [
        "### Red Wine Data ###"
      ]
    },
    {
      "cell_type": "code",
      "metadata": {
        "id": "buxBTc7dlwWD"
      },
      "source": [
        "X_r_tr2, X_r_t2, Y_r_tr2, Y_r_t2 = train_test_split(X_r, Y_r, test_size = 0.1, random_state = 30)\n",
        "X_r_tr2.to_csv('/content/sample_data/X_r_tr2.csv')\n",
        "X_r_t2.to_csv('/content/sample_data/X_r_t2.csv')\n",
        "Y_r_tr2.to_csv('/content/sample_data/Y_r_tr2.csv')\n",
        "Y_r_t2.to_csv('/content/sample_data/Y_r_t2.csv')"
      ],
      "execution_count": null,
      "outputs": []
    },
    {
      "cell_type": "code",
      "metadata": {
        "id": "iLpimC8Cyfo1"
      },
      "source": [
        "# define feature selection\n",
        "fs = SelectKBest(score_func=f_regression, k=5)\n",
        "# apply feature selection\n",
        "X2_r_selected = fs.fit_transform(X_r_tr2, Y_r_tr2)\n",
        "print(X2_r_selected[:5])\n"
      ],
      "execution_count": null,
      "outputs": []
    },
    {
      "cell_type": "code",
      "metadata": {
        "id": "GpjmgggR2QDO"
      },
      "source": [
        "X_r_tr2.head(5)"
      ],
      "execution_count": null,
      "outputs": []
    },
    {
      "cell_type": "code",
      "metadata": {
        "id": "yBWKLujP2pjE"
      },
      "source": [
        "X2 = X_r_tr2[['volatile acidity', 'citric acid', 'total sulfur dioxide', 'sulphates', 'alcohol']]\n",
        "X2 = sm.add_constant(X2) ## let's add an intercept (beta_0) to our model\n",
        "# Note the difference in argument order, first y than X\n",
        "model_r2 = sm.OLS(Y_r_tr2, X2).fit()\n",
        "predictions = model_r2.predict(X2) # make the predictions by the model\n",
        "\n",
        "# Print out the statistics\n",
        "model_r2.summary()"
      ],
      "execution_count": null,
      "outputs": []
    },
    {
      "cell_type": "code",
      "metadata": {
        "id": "vyd16byRekQR"
      },
      "source": [
        "X2_t = X_r_t2[['volatile acidity', 'citric acid', 'total sulfur dioxide', 'sulphates', 'alcohol']]\n",
        "X2_t = sm.add_constant(X2_t) ## let's add an intercept (beta_0) to our model\n",
        "Y2_t = model_r2.predict(X2_t)\n",
        "\n",
        "plt.figure(dpi = 75)\n",
        "\n",
        "plt.scatter(Y_r_t2, Y2_t)\n",
        "\n",
        "plt.plot(Y_r_t2, Y_r_t2, color=\"red\")\n",
        "\n",
        "plt.xlabel(\"Actual Scores\")\n",
        "\n",
        "plt.ylabel(\"Estimated Scores\")\n",
        "\n",
        "plt.title(\"Model: Actual vs Estimated Scores\")\n",
        "\n",
        "plt.show()\n"
      ],
      "execution_count": null,
      "outputs": []
    },
    {
      "cell_type": "code",
      "metadata": {
        "id": "SQbkNGAKkt0u"
      },
      "source": [
        "print('rmse', mean_squared_error(Y_r_t2, Y2_t, squared=False))"
      ],
      "execution_count": null,
      "outputs": []
    },
    {
      "cell_type": "code",
      "metadata": {
        "id": "Ut7cw496d5Z2"
      },
      "source": [
        "cutoff = 5.5\n",
        "Y2_r_pred = np.zeros_like(Y2_t)    # initialise a matrix full with zeros\n",
        "Y2_r_pred[Y2_t > cutoff] = 1\n",
        "\n",
        "Y2_r_test = np.zeros_like(Y2_t)\n",
        "Y2_r_test[Y_r_t2['quality'].to_numpy() > cutoff] = 1\n",
        "\n",
        "cm = confusion_matrix(Y2_r_test, Y2_r_pred)\n",
        "print(cm)\n",
        "# tp, tn, fp, fn"
      ],
      "execution_count": null,
      "outputs": []
    },
    {
      "cell_type": "code",
      "metadata": {
        "id": "F4w-A9JBha5y"
      },
      "source": [
        "cm = confusion_matrix(Y2_r_test, Y2_r_pred)\n",
        "r2_cm = pd.DataFrame(cm,index = ['Actual: Positive', 'Actual: Negative'], columns= ['Predicted: Positive', 'Predicted: Negative'])\n",
        "print(r2_cm)\n",
        "transfer = r2_cm\n",
        "# tp, tn, fp, fn"
      ],
      "execution_count": null,
      "outputs": []
    },
    {
      "cell_type": "code",
      "metadata": {
        "id": "ahYWBdDohZoi"
      },
      "source": [
        "# true positive rate = Sensitivity/ Recall = (true positive) / all actual positive\n",
        "print('TPR: ',round(transfer.iloc[0]['Predicted: Positive']/(transfer.iloc[0]['Predicted: Positive']+transfer.iloc[0]['Predicted: Negative']), 5))\n",
        "# false positive rate = false positive / all actual negative \n",
        "print('FPR: ', round(transfer.iloc[1]['Predicted: Positive']/(transfer.iloc[1]['Predicted: Positive']+transfer.iloc[1]['Predicted: Negative']), 5))\n",
        "# false negative rate = false negative / all actual positive \n",
        "print('FNR: ', round(transfer.iloc[0]['Predicted: Negative']/(transfer.iloc[0]['Predicted: Positive']+transfer.iloc[0]['Predicted: Negative']), 5))\n",
        "# precision = true positive / all predicted positive\n",
        "p_r2 = precision_score(Y2_r_test, Y2_r_pred)\n",
        "print('precision = ', p_r2 )# accuracy = % right estmation/ all estimation\n",
        "a_r2 = accuracy_score(Y2_r_test, Y2_r_pred)\n",
        "print('accuracy = ', a_r2)"
      ],
      "execution_count": null,
      "outputs": []
    },
    {
      "cell_type": "markdown",
      "metadata": {
        "id": "sc170tATlTYP"
      },
      "source": [
        "### White Wine Data ###"
      ]
    },
    {
      "cell_type": "code",
      "metadata": {
        "id": "bq1u8qmGl7eQ"
      },
      "source": [
        "X_w_tr2, X_w_t2, Y_w_tr2, Y_w_t2 = train_test_split(X_w, Y_w, test_size = 0.1, random_state = 30)\n",
        "X_w_tr2.to_csv('/content/sample_data/X_w_tr2.csv')\n",
        "X_w_t2.to_csv('/content/sample_data/X_w_t2.csv')\n",
        "Y_w_tr2.to_csv('/content/sample_data/Y_w_tr2.csv')\n",
        "Y_w_t2.to_csv('/content/sample_data/Y_w_t2.csv')"
      ],
      "execution_count": null,
      "outputs": []
    },
    {
      "cell_type": "code",
      "metadata": {
        "id": "lD1Y-wEp4Gdy"
      },
      "source": [
        "# define feature selection\n",
        "fs_w = SelectKBest(score_func=f_regression, k=5)\n",
        "# apply feature selection\n",
        "X2_w_selected = fs_w.fit_transform(X_w_tr2, Y_w_tr2)\n",
        "print(X2_w_selected[:5])"
      ],
      "execution_count": null,
      "outputs": []
    },
    {
      "cell_type": "code",
      "metadata": {
        "id": "KyAeh3vs4ZEP"
      },
      "source": [
        "X_w_tr2.head(5)"
      ],
      "execution_count": null,
      "outputs": []
    },
    {
      "cell_type": "code",
      "metadata": {
        "id": "wjmktE5N4fMl"
      },
      "source": [
        "X2_w = X_w_tr2[['volatile acidity', 'chlorides', 'total sulfur dioxide', 'alcohol', 'density']]\n",
        "X2_w = sm.add_constant(X2_w) ## let's add an intercept (beta_0) to our model\n",
        "# Note the difference in argument order, first y than X\n",
        "model_w2 = sm.OLS(Y_w_tr2, X2_w).fit()\n",
        "predictions = model_w2.predict(X2_w) # make the predictions by the model\n",
        "\n",
        "# Print out the statistics\n",
        "model_w2.summary()"
      ],
      "execution_count": null,
      "outputs": []
    },
    {
      "cell_type": "code",
      "metadata": {
        "id": "BA5FX6V15dxg"
      },
      "source": [
        "# VIF dataframe \n",
        "vif_data_w = pd.DataFrame() \n",
        "vif_data_w[\"feature\"] = X2_w.columns \n",
        "  \n",
        "# calculating VIF for each feature \n",
        "vif_data_w[\"VIF\"] = [variance_inflation_factor(X2_w.values, i) \n",
        "                          for i in range(len(X2_w.columns))]\n",
        "# print VIF\n",
        "print(vif_data_w)"
      ],
      "execution_count": null,
      "outputs": []
    },
    {
      "cell_type": "code",
      "metadata": {
        "id": "Yz7jobcogywM"
      },
      "source": [
        "X2_w_t = X_w_t2[['volatile acidity', 'chlorides', 'total sulfur dioxide', 'alcohol', 'density']]\n",
        "X2_w_t = sm.add_constant(X2_w_t) ## let's add an intercept (beta_0) to our model\n",
        "Y2_w_t = model_w2.predict(X2_w_t)\n",
        "\n",
        "\n",
        "plt.figure(dpi = 75)\n",
        "\n",
        "plt.scatter(Y_w_t2, Y2_w_t)\n",
        "\n",
        "plt.plot(Y_w_t2, Y_w_t2, color=\"red\")\n",
        "\n",
        "plt.xlabel(\"Actual Scores\")\n",
        "\n",
        "plt.ylabel(\"Estimated Scores\")\n",
        "\n",
        "plt.title(\"Model: Actual vs Estimated Scores\")\n",
        "\n",
        "plt.show()"
      ],
      "execution_count": null,
      "outputs": []
    },
    {
      "cell_type": "code",
      "metadata": {
        "id": "qELyWpHQlErA"
      },
      "source": [
        "print('rmse', mean_squared_error(Y_w_t1, Y1_w_t, squared=False))"
      ],
      "execution_count": null,
      "outputs": []
    },
    {
      "cell_type": "code",
      "metadata": {
        "id": "_2CUBQlwkGu3"
      },
      "source": [
        "cutoff = 5.5\n",
        "Y2_w_pred = np.zeros_like(Y2_w_t)    # initialise a matrix full with zeros\n",
        "Y2_w_pred[Y2_w_t > cutoff] = 1\n",
        "\n",
        "Y2_w_test = np.zeros_like(Y2_w_t)\n",
        "Y2_w_test[Y_w_t2['quality'].to_numpy() > cutoff] = 1\n",
        "\n",
        "cm = confusion_matrix(Y2_w_test, Y2_w_pred)\n",
        "w2_cm = pd.DataFrame(cm,index = ['Actual: Positive', 'Actual: Negative'], columns= ['Predicted: Positive', 'Predicted: Negative'])\n",
        "print(w2_cm)\n",
        "# tp, tn, fp, fn"
      ],
      "execution_count": null,
      "outputs": []
    },
    {
      "cell_type": "code",
      "metadata": {
        "id": "Rxm3g1kYib8n"
      },
      "source": [
        "# true positive rate = Sensitivity/ Recall = (true positive) / all actual positive\n",
        "print('TPR: ',round(w2_cm.iloc[0]['Predicted: Positive']/(w2_cm.iloc[0]['Predicted: Positive']+w2_cm.iloc[0]['Predicted: Negative']), 5))\n",
        "# false positive rate = false positive / all actual negative \n",
        "print('FPR: ', round(w2_cm.iloc[1]['Predicted: Positive']/(w2_cm.iloc[1]['Predicted: Positive']+w2_cm.iloc[1]['Predicted: Negative']), 5))\n",
        "# false negative rate = false negative / all actual positive \n",
        "print('FNR: ', round(w2_cm.iloc[0]['Predicted: Negative']/(w2_cm.iloc[0]['Predicted: Positive']+w2_cm.iloc[0]['Predicted: Negative']), 5))\n",
        "# precision = true positive / all predicted positive\n",
        "p_w2 = precision_score(Y2_w_test, Y2_w_pred)\n",
        "print('precision = ', p_w2 )# accuracy = % right estmation/ all estimation\n",
        "a_w2 = accuracy_score(Y2_w_test, Y2_w_pred)\n",
        "print('accuracy = ', a_w2)"
      ],
      "execution_count": null,
      "outputs": []
    },
    {
      "cell_type": "markdown",
      "metadata": {
        "id": "_rj18Hs0lZ56"
      },
      "source": [
        "## Repeat 3 ##"
      ]
    },
    {
      "cell_type": "markdown",
      "metadata": {
        "id": "SFXEHvtelcuf"
      },
      "source": [
        "### Red Wine Data ###"
      ]
    },
    {
      "cell_type": "code",
      "metadata": {
        "id": "FQwNbgP4mFm1"
      },
      "source": [
        "X_r_tr3, X_r_t3, Y_r_tr3, Y_r_t3 = train_test_split(X_r, Y_r, test_size = 0.1, random_state = 37)\n",
        "X_r_tr3.to_csv('/content/sample_data/X_r_tr3.csv')\n",
        "X_r_t3.to_csv('/content/sample_data/X_r_t3.csv')\n",
        "Y_r_tr3.to_csv('/content/sample_data/Y_r_tr3.csv')\n",
        "Y_r_t3.to_csv('/content/sample_data/Y_r_t3.csv')"
      ],
      "execution_count": null,
      "outputs": []
    },
    {
      "cell_type": "code",
      "metadata": {
        "id": "XJwX7g0rXqAw"
      },
      "source": [
        "\n",
        "# define feature selection\n",
        "fs = SelectKBest(score_func=f_regression, k=5)\n",
        "# apply feature selection\n",
        "X3_r_selected = fs.fit_transform(X_r_tr3, Y_r_tr3)\n",
        "print(X3_r_selected[:5])"
      ],
      "execution_count": null,
      "outputs": []
    },
    {
      "cell_type": "code",
      "metadata": {
        "id": "vs6G_DjRb0QU"
      },
      "source": [
        "X_r_tr3.head(5)"
      ],
      "execution_count": null,
      "outputs": []
    },
    {
      "cell_type": "code",
      "metadata": {
        "id": "zBOlaGhIb4OG"
      },
      "source": [
        "X3 = X_r_tr3[['volatile acidity', 'citric acid', 'total sulfur dioxide', 'sulphates', 'alcohol']]\n",
        "X3 = sm.add_constant(X3) ## let's add an intercept (beta_0) to our model\n",
        "# Note the difference in argument order, first y than X\n",
        "model_r3 = sm.OLS(Y_r_tr3, X3).fit()\n",
        "predictions = model_r3.predict(X3) # make the predictions by the model\n",
        "\n",
        "# Print out the statistics\n",
        "model_r3.summary()"
      ],
      "execution_count": null,
      "outputs": []
    },
    {
      "cell_type": "code",
      "metadata": {
        "id": "PLORFFDAcjeS"
      },
      "source": [
        "X3 = X_r_tr3[['volatile acidity', 'total sulfur dioxide', 'sulphates', 'alcohol']]\n",
        "X3 = sm.add_constant(X3) ## let's add an intercept (beta_0) to our model\n",
        "# Note the difference in argument order, first y than X\n",
        "model_r3_2 = sm.OLS(Y_r_tr3, X3).fit()\n",
        "predictions = model_r3_2.predict(X3) # make the predictions by the model\n",
        "\n",
        "# Print out the statistics\n",
        "model_r3_2.summary()"
      ],
      "execution_count": null,
      "outputs": []
    },
    {
      "cell_type": "code",
      "metadata": {
        "id": "NKbgN-eBkjEE"
      },
      "source": [
        "X3_t = X_r_t3[['volatile acidity', 'total sulfur dioxide', 'sulphates', 'alcohol']]\n",
        "X3_t = sm.add_constant(X3_t) ## let's add an intercept (beta_0) to our model\n",
        "Y3_t = model_r3_2.predict(X3_t)\n",
        "\n",
        "\n",
        "plt.figure(dpi = 75)\n",
        "\n",
        "plt.scatter(Y_r_t3, Y3_t)\n",
        "\n",
        "plt.plot(Y_r_t3, Y_r_t3, color=\"red\")\n",
        "\n",
        "plt.xlabel(\"Actual Scores\")\n",
        "\n",
        "plt.ylabel(\"Estimated Scores\")\n",
        "\n",
        "plt.title(\"Model: Actual vs Estimated Scores\")\n",
        "\n",
        "plt.show()"
      ],
      "execution_count": null,
      "outputs": []
    },
    {
      "cell_type": "code",
      "metadata": {
        "id": "BAWbpXQ1lMFl"
      },
      "source": [
        "print('rmse', mean_squared_error(Y_r_t3, Y3_t, squared=False))"
      ],
      "execution_count": null,
      "outputs": []
    },
    {
      "cell_type": "code",
      "metadata": {
        "id": "p2rHmi0glQQz"
      },
      "source": [
        "cutoff = 5.5\n",
        "Y3_r_pred = np.zeros_like(Y3_t)    # initialise a matrix full with zeros\n",
        "Y3_r_pred[Y3_t > cutoff] = 1\n",
        "\n",
        "Y3_r_test = np.zeros_like(Y2_t)\n",
        "Y3_r_test[Y_r_t3['quality'].to_numpy() > cutoff] = 1\n",
        "\n",
        "cm = confusion_matrix(Y3_r_test, Y3_r_pred)\n",
        "r3_cm = pd.DataFrame(cm,index = ['Actual: Positive', 'Actual: Negative'], columns= ['Predicted: Positive', 'Predicted: Negative'])\n",
        "print(r3_cm)\n",
        "# tp, tn, fp, fn"
      ],
      "execution_count": null,
      "outputs": []
    },
    {
      "cell_type": "code",
      "metadata": {
        "id": "TlEpw14TiInO"
      },
      "source": [
        "# true positive rate = Sensitivity/ Recall = (true positive) / all actual positive\n",
        "print('TPR: ',round(r3_cm.iloc[0]['Predicted: Positive']/(r3_cm.iloc[0]['Predicted: Positive']+r3_cm.iloc[0]['Predicted: Negative']), 5))\n",
        "# false positive rate = false positive / all actual negative \n",
        "print('FPR: ', round(r3_cm.iloc[1]['Predicted: Positive']/(r3_cm.iloc[1]['Predicted: Positive']+r3_cm.iloc[1]['Predicted: Negative']), 5))\n",
        "# false negative rate = false negative / all actual positive \n",
        "print('FNR: ', round(r3_cm.iloc[0]['Predicted: Negative']/(r3_cm.iloc[0]['Predicted: Positive']+r3_cm.iloc[0]['Predicted: Negative']), 5))\n",
        "# precision = true positive / all predicted positive\n",
        "p_r3 = precision_score(Y3_r_test, Y3_r_pred)\n",
        "print('precision = ', p_r3)\n",
        "# accuracy = % right estmation/ all estimation\n",
        "a_r3 = accuracy_score(Y3_r_test, Y3_r_pred)\n",
        "print('accuracy = ', a_r3)"
      ],
      "execution_count": null,
      "outputs": []
    },
    {
      "cell_type": "markdown",
      "metadata": {
        "id": "CLrA1Gwklgp_"
      },
      "source": [
        "### White Wine Data ###"
      ]
    },
    {
      "cell_type": "code",
      "metadata": {
        "id": "KfoTEp3XmLRW"
      },
      "source": [
        "X_w_tr3, X_w_t3, Y_w_tr3, Y_w_t3 = train_test_split(X_w, Y_w, test_size = 0.1, random_state = 37)\n",
        "X_w_tr3.to_csv('/content/sample_data/X_w_tr3.csv')\n",
        "X_w_t3.to_csv('/content/sample_data/X_w_t3.csv')\n",
        "Y_w_tr3.to_csv('/content/sample_data/Y_w_tr3.csv')\n",
        "Y_w_t3.to_csv('/content/sample_data/Y_w_t3.csv')"
      ],
      "execution_count": null,
      "outputs": []
    },
    {
      "cell_type": "code",
      "metadata": {
        "id": "tUDL6X7hc1X9"
      },
      "source": [
        "# define feature selection\n",
        "fs_w = SelectKBest(score_func=f_regression, k=5)\n",
        "# apply feature selection\n",
        "X3_w_selected = fs_w.fit_transform(X_w_tr3, Y_w_tr3)\n",
        "print(X3_w_selected[:5])"
      ],
      "execution_count": null,
      "outputs": []
    },
    {
      "cell_type": "code",
      "metadata": {
        "id": "xznZH8gDc_gy"
      },
      "source": [
        "X_w_tr3.head(5)"
      ],
      "execution_count": null,
      "outputs": []
    },
    {
      "cell_type": "code",
      "metadata": {
        "id": "-UZcZyJ4dFv-"
      },
      "source": [
        "X3_w = X_w_tr3[['volatile acidity', 'chlorides', 'total sulfur dioxide', 'alcohol', 'density']]\n",
        "X3_w = sm.add_constant(X3_w) ## let's add an intercept (beta_0) to our model\n",
        "# Note the difference in argument order, first y than X\n",
        "model_w3 = sm.OLS(Y_w_tr3, X3_w).fit()\n",
        "predictions = model_w3.predict(X3_w) # make the predictions by the model\n",
        "\n",
        "# Print out the statistics\n",
        "model_w3.summary()"
      ],
      "execution_count": null,
      "outputs": []
    },
    {
      "cell_type": "code",
      "metadata": {
        "id": "wNxCfUe1de4E"
      },
      "source": [
        "X3_w = X_w_tr3[['volatile acidity', 'alcohol', 'total sulfur dioxide', 'density']]\n",
        "X3_w = sm.add_constant(X3_w) ## let's add an intercept (beta_0) to our model\n",
        "# Note the difference in argument order, first y than X\n",
        "model_w3_1 = sm.OLS(Y_w_tr3, X3_w).fit()\n",
        "predictions = model_w3_1.predict(X3_w) # make the predictions by the model\n",
        "\n",
        "# Print out the statistics\n",
        "model_w3_1.summary()"
      ],
      "execution_count": null,
      "outputs": []
    },
    {
      "cell_type": "code",
      "metadata": {
        "id": "V7OB4PkVedun"
      },
      "source": [
        "\n",
        "# VIF dataframe \n",
        "vif_data_w = pd.DataFrame() \n",
        "vif_data_w[\"feature\"] = X3_w.columns \n",
        "  \n",
        "# calculating VIF for each feature \n",
        "vif_data_w[\"VIF\"] = [variance_inflation_factor(X3_w.values, i) \n",
        "                          for i in range(len(X3_w.columns))]\n",
        "# print VIF\n",
        "print(vif_data_w)"
      ],
      "execution_count": null,
      "outputs": []
    },
    {
      "cell_type": "code",
      "metadata": {
        "id": "aGma_D8Cl-Rp"
      },
      "source": [
        "X3_w_t = X_w_t3[['volatile acidity', 'alcohol', 'total sulfur dioxide', 'density']]\n",
        "X3_w_t = sm.add_constant(X3_w_t) ## let's add an intercept (beta_0) to our model\n",
        "Y3_w_t = model_w3_1.predict(X3_w_t)\n",
        "\n",
        "\n",
        "plt.figure(dpi = 75)\n",
        "\n",
        "plt.scatter(Y_w_t3, Y3_w_t)\n",
        "\n",
        "plt.plot(Y_w_t3, Y_w_t3, color=\"red\")\n",
        "\n",
        "plt.xlabel(\"Actual Scores\")\n",
        "\n",
        "plt.ylabel(\"Estimated Scores\")\n",
        "\n",
        "plt.title(\"Model: Actual vs Estimated Scores\")\n",
        "\n",
        "plt.show()"
      ],
      "execution_count": null,
      "outputs": []
    },
    {
      "cell_type": "code",
      "metadata": {
        "id": "QYraGx0PlYK6"
      },
      "source": [
        "print('rmse', mean_squared_error(Y_w_t3, Y3_w_t, squared=False))"
      ],
      "execution_count": null,
      "outputs": []
    },
    {
      "cell_type": "code",
      "metadata": {
        "id": "oME6Zr5VqU6n"
      },
      "source": [
        "cutoff = 5.5\n",
        "Y3_w_pred = np.zeros_like(Y2_w_t)    # initialise a matrix full with zeros\n",
        "Y3_w_pred[Y3_w_t > cutoff] = 1\n",
        "\n",
        "Y3_w_test = np.zeros_like(Y3_w_t)\n",
        "Y3_w_test[Y_w_t3['quality'].to_numpy() > cutoff] = 1\n",
        "\n",
        "cm = confusion_matrix(Y3_w_test, Y3_w_pred)\n",
        "w3_cm = pd.DataFrame(cm,index = ['Actual: Positive', 'Actual: Negative'], columns= ['Predicted: Positive', 'Predicted: Negative'])\n",
        "print(w3_cm)\n",
        "# tp, tn, fp, fn"
      ],
      "execution_count": null,
      "outputs": []
    },
    {
      "cell_type": "code",
      "metadata": {
        "id": "mNVtG1wRi1FE"
      },
      "source": [
        "# true positive rate = Sensitivity/ Recall = (true positive) / all actual positive\n",
        "print('TPR: ',round(w3_cm.iloc[0]['Predicted: Positive']/(w3_cm.iloc[0]['Predicted: Positive']+w3_cm.iloc[0]['Predicted: Negative']), 5))\n",
        "# false positive rate = false positive / all actual negative \n",
        "print('FPR: ', round(w3_cm.iloc[1]['Predicted: Positive']/(w3_cm.iloc[1]['Predicted: Positive']+w3_cm.iloc[1]['Predicted: Negative']), 5))\n",
        "# false negative rate = false negative / all actual positive \n",
        "print('FNR: ', round(w3_cm.iloc[0]['Predicted: Negative']/(w3_cm.iloc[0]['Predicted: Positive']+w3_cm.iloc[0]['Predicted: Negative']), 5))\n",
        "# precision = true positive / all predicted positive\n",
        "p_w3 = precision_score(Y3_w_test, Y3_w_pred)\n",
        "print('precision = ', p_w3)# accuracy = % right estmation/ all estimation\n",
        "a_w3 = accuracy_score(Y3_w_test, Y3_w_pred)\n",
        "print('accuracy = ', a_w3)"
      ],
      "execution_count": null,
      "outputs": []
    },
    {
      "cell_type": "markdown",
      "metadata": {
        "id": "8qzvAhYJ1AJ8"
      },
      "source": [
        "## Summarize ##"
      ]
    },
    {
      "cell_type": "code",
      "metadata": {
        "id": "SYsSHx7D1IaB"
      },
      "source": [
        "# create empty dataframe to fill the mean confusion matrix for red wine data\n",
        "sum_cm_r = pd.DataFrame(index = ['Actual: Positive', 'Actual: Negative'], columns = ['Predicted: Positive', 'Predicted: Negative'])\n",
        "for ind in sum_cm_r.columns:\n",
        "  sum_cm_r[ind][0] = r1_cm[ind][0] + r2_cm[ind][0] + r3_cm[ind][0]\n",
        "  sum_cm_r[ind][1] = r1_cm[ind][1] + r2_cm[ind][1] + r3_cm[ind][1]\n",
        "print(sum_cm_r)\n"
      ],
      "execution_count": null,
      "outputs": []
    },
    {
      "cell_type": "code",
      "metadata": {
        "id": "dXOym6S_53Xw"
      },
      "source": [
        "\n",
        "# true positive rate = Sensitivity/ Recall = (true positive) / all actual positive\n",
        "print('TPR: ',round(sum_cm_r.iloc[0]['Predicted: Positive']/(sum_cm_r.iloc[0]['Predicted: Positive']+sum_cm_r.iloc[0]['Predicted: Negative']), 5))\n",
        "# false positive rate = false positive / all actual negative \n",
        "print('FPR: ', round(sum_cm_r.iloc[1]['Predicted: Positive']/(sum_cm_r.iloc[1]['Predicted: Positive']+sum_cm_r.iloc[1]['Predicted: Negative']), 5))\n",
        "# false negative rate = false negative / all actual positive \n",
        "print('FNR: ', round(sum_cm_r.iloc[0]['Predicted: Negative']/(sum_cm_r.iloc[0]['Predicted: Positive']+sum_cm_r.iloc[0]['Predicted: Negative']), 5))\n",
        "# precision = true positive / all predicted positive\n",
        "p_r = st.mean([p_r1, p_r2, p_r3])\n",
        "print('precision = ', p_r )# accuracy = % right estmation/ all estimation\n",
        "a_r = st.mean([a_r1, a_r2, a_r3])\n",
        "print('accuracy = ', a_r)"
      ],
      "execution_count": null,
      "outputs": []
    },
    {
      "cell_type": "code",
      "metadata": {
        "id": "3EtIRM0q5rMI"
      },
      "source": [
        "# create empty dataframe to fill the mean confusion matrix for red wine data\n",
        "sum_cm_w = pd.DataFrame(index = ['Actual: Positive', 'Actual: Negative'], columns = ['Predicted: Positive', 'Predicted: Negative'])\n",
        "for ind in sum_cm_w.columns:\n",
        "  sum_cm_w[ind][0] = w1_cm[ind][0] + w2_cm[ind][0] + w3_cm[ind][0]\n",
        "  sum_cm_w[ind][1] = w1_cm[ind][1] + w2_cm[ind][1] + w3_cm[ind][1]\n",
        "print(sum_cm_w)"
      ],
      "execution_count": null,
      "outputs": []
    },
    {
      "cell_type": "code",
      "metadata": {
        "id": "97AAdTfG537m"
      },
      "source": [
        "# true positive rate = Sensitivity/ Recall = (true positive) / all actual positive\n",
        "print('TPR: ',round(sum_cm_w.iloc[0]['Predicted: Positive']/(sum_cm_w.iloc[0]['Predicted: Positive']+sum_cm_w.iloc[0]['Predicted: Negative']), 5))\n",
        "# false positive rate = false positive / all actual negative \n",
        "print('FPR: ', round(sum_cm_w.iloc[1]['Predicted: Positive']/(sum_cm_w.iloc[1]['Predicted: Positive']+sum_cm_w.iloc[1]['Predicted: Negative']), 5))\n",
        "# false negative rate = false negative / all actual positive \n",
        "print('FNR: ', round(sum_cm_w.iloc[0]['Predicted: Negative']/(sum_cm_w.iloc[0]['Predicted: Positive']+sum_cm_w.iloc[0]['Predicted: Negative']), 5))\n",
        "# precision = true positive / all predicted positive\n",
        "p_w = st.mean([p_w1, p_w2, p_w3])\n",
        "print('precision = ', p_w )# accuracy = % right estmation/ all estimation\n",
        "a_w = st.mean([a_w1, a_w2, a_w3])\n",
        "print('accuracy = ', a_w)\n"
      ],
      "execution_count": null,
      "outputs": []
    },
    {
      "cell_type": "markdown",
      "metadata": {
        "id": "z7zzns-FzAgr"
      },
      "source": [
        "# **CONCLUSION**"
      ]
    },
    {
      "cell_type": "markdown",
      "metadata": {
        "id": "lSgKAnbpzHY_"
      },
      "source": [
        "italicized text+ K means clustering method:\n",
        "  - In red wine data with k = 2,3 the data is divided quite perfectly while in white data with k = 2,3 the data is separated poorly.\n",
        "  - The accuracy rate is ranging from 55% to 63%.\n",
        "+ Linear regression method:\n",
        "  - The method works well for both red and white dataset.\n",
        "  - The accuracy rate is above 74% and precision rate is 75.6%.\n",
        "+ Conclusion:\n",
        "  - If we seek to understand this dataset, then:\n",
        "  - In this circumstance and dataset, we should use linear regression instead of k means clustering because of better performance rate and we see that some predictors are highly correlated with the quality variables.\n",
        "  - The k mean clustering method in this situation only works well for small number of features of data. We should take full advantage of k mean's applications in other problems. Image Segmentation is a typical example."
      ]
    }
  ]
}